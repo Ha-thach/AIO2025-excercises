{
 "cells": [
  {
   "cell_type": "code",
   "execution_count": 4,
   "id": "2408d4f5",
   "metadata": {},
   "outputs": [],
   "source": [
    "import pandas\n",
    "import tabula"
   ]
  },
  {
   "cell_type": "code",
   "execution_count": 49,
   "id": "a4ed2504",
   "metadata": {},
   "outputs": [
    {
     "name": "stdout",
     "output_type": "stream",
     "text": [
      "2\n",
      "<class 'list'>\n"
     ]
    }
   ],
   "source": [
    "pdf_path = \"/Users/thachha/Desktop/AIO2025-official/module 1/Readling docs/M01W03-ThucHanhTrichXuatBangTrongPDFvsTabularPyAndPandas.pdf\"\n",
    "\n",
    "df = tabula.read_pdf(pdf_path, pages = \"3\", lattice = True)\n",
    "\n",
    "print(len(df))\n",
    "print(type(df))"
   ]
  },
  {
   "cell_type": "code",
   "execution_count": 50,
   "id": "83ee45dc",
   "metadata": {},
   "outputs": [
    {
     "data": {
      "text/html": [
       "<div>\n",
       "<style scoped>\n",
       "    .dataframe tbody tr th:only-of-type {\n",
       "        vertical-align: middle;\n",
       "    }\n",
       "\n",
       "    .dataframe tbody tr th {\n",
       "        vertical-align: top;\n",
       "    }\n",
       "\n",
       "    .dataframe thead th {\n",
       "        text-align: right;\n",
       "    }\n",
       "</style>\n",
       "<table border=\"1\" class=\"dataframe\">\n",
       "  <thead>\n",
       "    <tr style=\"text-align: right;\">\n",
       "      <th></th>\n",
       "      <th>Môn học</th>\n",
       "      <th>Ngày thi</th>\n",
       "      <th>Giờ bắt đầu</th>\n",
       "      <th>Phòng thi</th>\n",
       "    </tr>\n",
       "  </thead>\n",
       "  <tbody>\n",
       "    <tr>\n",
       "      <th>0</th>\n",
       "      <td>Toán</td>\n",
       "      <td>20/12/2024</td>\n",
       "      <td>08:00</td>\n",
       "      <td>101A</td>\n",
       "    </tr>\n",
       "    <tr>\n",
       "      <th>1</th>\n",
       "      <td>NaN</td>\n",
       "      <td>21/12/2024</td>\n",
       "      <td>09:00</td>\n",
       "      <td>102B</td>\n",
       "    </tr>\n",
       "    <tr>\n",
       "      <th>2</th>\n",
       "      <td>Lý</td>\n",
       "      <td>22/12/2024</td>\n",
       "      <td>08:00</td>\n",
       "      <td>101A</td>\n",
       "    </tr>\n",
       "    <tr>\n",
       "      <th>3</th>\n",
       "      <td>NaN</td>\n",
       "      <td>NaN</td>\n",
       "      <td>10:00</td>\n",
       "      <td>102B</td>\n",
       "    </tr>\n",
       "    <tr>\n",
       "      <th>4</th>\n",
       "      <td>Hóa</td>\n",
       "      <td>23/12/2024</td>\n",
       "      <td>08:00</td>\n",
       "      <td>101A</td>\n",
       "    </tr>\n",
       "    <tr>\n",
       "      <th>5</th>\n",
       "      <td>10:00</td>\n",
       "      <td>102B</td>\n",
       "      <td>NaN</td>\n",
       "      <td>NaN</td>\n",
       "    </tr>\n",
       "  </tbody>\n",
       "</table>\n",
       "</div>"
      ],
      "text/plain": [
       "  Môn học    Ngày thi Giờ bắt đầu Phòng thi\n",
       "0    Toán  20/12/2024       08:00      101A\n",
       "1     NaN  21/12/2024       09:00      102B\n",
       "2      Lý  22/12/2024       08:00      101A\n",
       "3     NaN         NaN       10:00      102B\n",
       "4     Hóa  23/12/2024       08:00      101A\n",
       "5   10:00        102B         NaN       NaN"
      ]
     },
     "execution_count": 50,
     "metadata": {},
     "output_type": "execute_result"
    }
   ],
   "source": [
    "df[1]"
   ]
  },
  {
   "cell_type": "code",
   "execution_count": 51,
   "id": "934b6696",
   "metadata": {},
   "outputs": [
    {
     "name": "stdout",
     "output_type": "stream",
     "text": [
      "2\n",
      "<class 'list'>\n"
     ]
    }
   ],
   "source": [
    "pdf_path = \"/Users/thachha/Desktop/AIO2025-official/module 1/Readling docs/M01W03-ThucHanhTrichXuatBangTrongPDFvsTabularPyAndPandas.pdf\"\n",
    "\n",
    "df = tabula.read_pdf(pdf_path, pages = \"3\", stream = True)\n",
    "\n",
    "print(len(df))\n",
    "print(type(df))"
   ]
  },
  {
   "cell_type": "code",
   "execution_count": 58,
   "id": "abdecf1e",
   "metadata": {},
   "outputs": [],
   "source": [
    "type(df[0])\n",
    "df= df[0]"
   ]
  },
  {
   "cell_type": "markdown",
   "id": "3785309c",
   "metadata": {},
   "source": [
    "Đối với bảng không có đường kẻ grid, dùng stream = True tabula-py sẽ phân tích trang PDF dựa trên\n",
    "cấu trúc các hàng và khoảng trống giữa chúng để xác định ranh giới."
   ]
  },
  {
   "cell_type": "markdown",
   "id": "aecd7420",
   "metadata": {},
   "source": [
    "Đối với bảng có cấu trúc phức tạp do merge cột hoặc hàng, dùng pandas để xử lý lại sau khi thử stream = True and lattice = True để thử xem kết quả nào tốt hơn"
   ]
  },
  {
   "cell_type": "code",
   "execution_count": 61,
   "id": "8b9278d1",
   "metadata": {},
   "outputs": [
    {
     "name": "stderr",
     "output_type": "stream",
     "text": [
      "/var/folders/84/b9vl_qzn7f5cswh17vzq1lvr0000gn/T/ipykernel_6985/1868735432.py:3: FutureWarning: Series.fillna with 'method' is deprecated and will raise in a future version. Use obj.ffill() or obj.bfill() instead.\n",
      "  df['Môn học'].fillna(method = 'ffill', inplace = True)\n",
      "/var/folders/84/b9vl_qzn7f5cswh17vzq1lvr0000gn/T/ipykernel_6985/1868735432.py:4: FutureWarning: A value is trying to be set on a copy of a DataFrame or Series through chained assignment using an inplace method.\n",
      "The behavior will change in pandas 3.0. This inplace method will never work because the intermediate object on which we are setting values always behaves as a copy.\n",
      "\n",
      "For example, when doing 'df[col].method(value, inplace=True)', try using 'df.method({col: value}, inplace=True)' or df[col] = df[col].method(value) instead, to perform the operation inplace on the original object.\n",
      "\n",
      "\n",
      "  df['Ngày thi'].fillna(method = 'ffill', inplace = True)\n",
      "/var/folders/84/b9vl_qzn7f5cswh17vzq1lvr0000gn/T/ipykernel_6985/1868735432.py:4: FutureWarning: Series.fillna with 'method' is deprecated and will raise in a future version. Use obj.ffill() or obj.bfill() instead.\n",
      "  df['Ngày thi'].fillna(method = 'ffill', inplace = True)\n",
      "/var/folders/84/b9vl_qzn7f5cswh17vzq1lvr0000gn/T/ipykernel_6985/1868735432.py:5: FutureWarning: A value is trying to be set on a copy of a DataFrame or Series through chained assignment using an inplace method.\n",
      "The behavior will change in pandas 3.0. This inplace method will never work because the intermediate object on which we are setting values always behaves as a copy.\n",
      "\n",
      "For example, when doing 'df[col].method(value, inplace=True)', try using 'df.method({col: value}, inplace=True)' or df[col] = df[col].method(value) instead, to perform the operation inplace on the original object.\n",
      "\n",
      "\n",
      "  df['Giờ bắt đầu'].fillna(method = 'ffill', inplace = True)\n",
      "/var/folders/84/b9vl_qzn7f5cswh17vzq1lvr0000gn/T/ipykernel_6985/1868735432.py:5: FutureWarning: Series.fillna with 'method' is deprecated and will raise in a future version. Use obj.ffill() or obj.bfill() instead.\n",
      "  df['Giờ bắt đầu'].fillna(method = 'ffill', inplace = True)\n",
      "/var/folders/84/b9vl_qzn7f5cswh17vzq1lvr0000gn/T/ipykernel_6985/1868735432.py:6: FutureWarning: A value is trying to be set on a copy of a DataFrame or Series through chained assignment using an inplace method.\n",
      "The behavior will change in pandas 3.0. This inplace method will never work because the intermediate object on which we are setting values always behaves as a copy.\n",
      "\n",
      "For example, when doing 'df[col].method(value, inplace=True)', try using 'df.method({col: value}, inplace=True)' or df[col] = df[col].method(value) instead, to perform the operation inplace on the original object.\n",
      "\n",
      "\n",
      "  df['Phòng thi'].fillna(method = 'ffill', inplace = True)\n",
      "/var/folders/84/b9vl_qzn7f5cswh17vzq1lvr0000gn/T/ipykernel_6985/1868735432.py:6: FutureWarning: Series.fillna with 'method' is deprecated and will raise in a future version. Use obj.ffill() or obj.bfill() instead.\n",
      "  df['Phòng thi'].fillna(method = 'ffill', inplace = True)\n"
     ]
    },
    {
     "data": {
      "text/html": [
       "<div>\n",
       "<style scoped>\n",
       "    .dataframe tbody tr th:only-of-type {\n",
       "        vertical-align: middle;\n",
       "    }\n",
       "\n",
       "    .dataframe tbody tr th {\n",
       "        vertical-align: top;\n",
       "    }\n",
       "\n",
       "    .dataframe thead th {\n",
       "        text-align: right;\n",
       "    }\n",
       "</style>\n",
       "<table border=\"1\" class=\"dataframe\">\n",
       "  <thead>\n",
       "    <tr style=\"text-align: right;\">\n",
       "      <th></th>\n",
       "      <th>Môn học</th>\n",
       "      <th>Ngày thi</th>\n",
       "      <th>Giờ bắt đầu</th>\n",
       "      <th>Phòng thi</th>\n",
       "    </tr>\n",
       "  </thead>\n",
       "  <tbody>\n",
       "    <tr>\n",
       "      <th>0</th>\n",
       "      <td>NaN</td>\n",
       "      <td>20/12/2024</td>\n",
       "      <td>08:00</td>\n",
       "      <td>101A</td>\n",
       "    </tr>\n",
       "    <tr>\n",
       "      <th>1</th>\n",
       "      <td>Toán</td>\n",
       "      <td>20/12/2024</td>\n",
       "      <td>08:00</td>\n",
       "      <td>101A</td>\n",
       "    </tr>\n",
       "    <tr>\n",
       "      <th>2</th>\n",
       "      <td>Toán</td>\n",
       "      <td>21/12/2024</td>\n",
       "      <td>09:00</td>\n",
       "      <td>102B</td>\n",
       "    </tr>\n",
       "    <tr>\n",
       "      <th>3</th>\n",
       "      <td>Toán</td>\n",
       "      <td>21/12/2024</td>\n",
       "      <td>08:00</td>\n",
       "      <td>101A</td>\n",
       "    </tr>\n",
       "    <tr>\n",
       "      <th>4</th>\n",
       "      <td>Lý</td>\n",
       "      <td>22/12/2024</td>\n",
       "      <td>08:00</td>\n",
       "      <td>101A</td>\n",
       "    </tr>\n",
       "    <tr>\n",
       "      <th>5</th>\n",
       "      <td>Lý</td>\n",
       "      <td>22/12/2024</td>\n",
       "      <td>10:00</td>\n",
       "      <td>102B</td>\n",
       "    </tr>\n",
       "    <tr>\n",
       "      <th>6</th>\n",
       "      <td>Lý</td>\n",
       "      <td>22/12/2024</td>\n",
       "      <td>08:00</td>\n",
       "      <td>101A</td>\n",
       "    </tr>\n",
       "    <tr>\n",
       "      <th>7</th>\n",
       "      <td>Hóa</td>\n",
       "      <td>23/12/2024</td>\n",
       "      <td>08:00</td>\n",
       "      <td>101A</td>\n",
       "    </tr>\n",
       "    <tr>\n",
       "      <th>8</th>\n",
       "      <td>Hóa</td>\n",
       "      <td>23/12/2024</td>\n",
       "      <td>10:00</td>\n",
       "      <td>102B</td>\n",
       "    </tr>\n",
       "  </tbody>\n",
       "</table>\n",
       "</div>"
      ],
      "text/plain": [
       "  Môn học    Ngày thi Giờ bắt đầu Phòng thi\n",
       "0     NaN  20/12/2024       08:00      101A\n",
       "1    Toán  20/12/2024       08:00      101A\n",
       "2    Toán  21/12/2024       09:00      102B\n",
       "3    Toán  21/12/2024       08:00      101A\n",
       "4      Lý  22/12/2024       08:00      101A\n",
       "5      Lý  22/12/2024       10:00      102B\n",
       "6      Lý  22/12/2024       08:00      101A\n",
       "7     Hóa  23/12/2024       08:00      101A\n",
       "8     Hóa  23/12/2024       10:00      102B"
      ]
     },
     "execution_count": 61,
     "metadata": {},
     "output_type": "execute_result"
    }
   ],
   "source": [
    "# Fill NaN using the previous row \n",
    "\n",
    "df['Môn học'].fillna(method = 'ffill', inplace = True)\n",
    "df['Ngày thi'].fillna(method = 'ffill', inplace = True)\n",
    "df['Giờ bắt đầu'].fillna(method = 'ffill', inplace = True)\n",
    "df['Phòng thi'].fillna(method = 'ffill', inplace = True)\n",
    "df"
   ]
  },
  {
   "cell_type": "code",
   "execution_count": 63,
   "id": "4a462413",
   "metadata": {},
   "outputs": [
    {
     "data": {
      "text/html": [
       "<div>\n",
       "<style scoped>\n",
       "    .dataframe tbody tr th:only-of-type {\n",
       "        vertical-align: middle;\n",
       "    }\n",
       "\n",
       "    .dataframe tbody tr th {\n",
       "        vertical-align: top;\n",
       "    }\n",
       "\n",
       "    .dataframe thead th {\n",
       "        text-align: right;\n",
       "    }\n",
       "</style>\n",
       "<table border=\"1\" class=\"dataframe\">\n",
       "  <thead>\n",
       "    <tr style=\"text-align: right;\">\n",
       "      <th></th>\n",
       "      <th>Môn học</th>\n",
       "      <th>Ngày thi</th>\n",
       "      <th>Giờ bắt đầu</th>\n",
       "      <th>Phòng thi</th>\n",
       "    </tr>\n",
       "  </thead>\n",
       "  <tbody>\n",
       "    <tr>\n",
       "      <th>1</th>\n",
       "      <td>Toán</td>\n",
       "      <td>20/12/2024</td>\n",
       "      <td>08:00</td>\n",
       "      <td>101A</td>\n",
       "    </tr>\n",
       "    <tr>\n",
       "      <th>2</th>\n",
       "      <td>Toán</td>\n",
       "      <td>21/12/2024</td>\n",
       "      <td>09:00</td>\n",
       "      <td>102B</td>\n",
       "    </tr>\n",
       "    <tr>\n",
       "      <th>4</th>\n",
       "      <td>Lý</td>\n",
       "      <td>22/12/2024</td>\n",
       "      <td>08:00</td>\n",
       "      <td>101A</td>\n",
       "    </tr>\n",
       "    <tr>\n",
       "      <th>5</th>\n",
       "      <td>Lý</td>\n",
       "      <td>22/12/2024</td>\n",
       "      <td>10:00</td>\n",
       "      <td>102B</td>\n",
       "    </tr>\n",
       "    <tr>\n",
       "      <th>7</th>\n",
       "      <td>Hóa</td>\n",
       "      <td>23/12/2024</td>\n",
       "      <td>08:00</td>\n",
       "      <td>101A</td>\n",
       "    </tr>\n",
       "    <tr>\n",
       "      <th>8</th>\n",
       "      <td>Hóa</td>\n",
       "      <td>23/12/2024</td>\n",
       "      <td>10:00</td>\n",
       "      <td>102B</td>\n",
       "    </tr>\n",
       "  </tbody>\n",
       "</table>\n",
       "</div>"
      ],
      "text/plain": [
       "  Môn học    Ngày thi Giờ bắt đầu Phòng thi\n",
       "1    Toán  20/12/2024       08:00      101A\n",
       "2    Toán  21/12/2024       09:00      102B\n",
       "4      Lý  22/12/2024       08:00      101A\n",
       "5      Lý  22/12/2024       10:00      102B\n",
       "7     Hóa  23/12/2024       08:00      101A\n",
       "8     Hóa  23/12/2024       10:00      102B"
      ]
     },
     "execution_count": 63,
     "metadata": {},
     "output_type": "execute_result"
    }
   ],
   "source": [
    "df_cleaned = df.drop([0,3,6])\n",
    "df_cleaned\n"
   ]
  },
  {
   "cell_type": "markdown",
   "id": "f2678021",
   "metadata": {},
   "source": [
    "In the case we cannot reach complex tables in documents especially in research paper, we can figure out the location of table using Pdf readers app to determine 4 values of locations [top, left, bottom, width] then read_pdff with area = loc. "
   ]
  }
 ],
 "metadata": {
  "kernelspec": {
   "display_name": "myenv",
   "language": "python",
   "name": "python3"
  },
  "language_info": {
   "codemirror_mode": {
    "name": "ipython",
    "version": 3
   },
   "file_extension": ".py",
   "mimetype": "text/x-python",
   "name": "python",
   "nbconvert_exporter": "python",
   "pygments_lexer": "ipython3",
   "version": "3.10.16"
  }
 },
 "nbformat": 4,
 "nbformat_minor": 5
}
