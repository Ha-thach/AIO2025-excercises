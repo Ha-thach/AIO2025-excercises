{
 "cells": [
  {
   "cell_type": "code",
   "execution_count": null,
   "id": "953e33c9",
   "metadata": {},
   "outputs": [],
   "source": [
    "name = \"AI Vietnam\"\n",
    "year = 2025\n",
    "\n",
    "print(f'Welcom to {name} {year}')\n",
    "print(__annotations__)"
   ]
  },
  {
   "cell_type": "code",
   "execution_count": null,
   "id": "5475d88b",
   "metadata": {},
   "outputs": [],
   "source": [
    "name : str = \"AI Vietnam\"\n",
    "year : int = 2025\n",
    "\n",
    "print(f'Welcom to {name} {year}')\n",
    "print(__annotations__)"
   ]
  },
  {
   "cell_type": "code",
   "execution_count": null,
   "id": "b8b0e3d6",
   "metadata": {},
   "outputs": [],
   "source": [
    "numbers = [1, 2, 3]\n",
    "num: list [int] = [2, 3, 4]\n",
    "print (numbers)\n",
    "print(num)\n",
    "print(__annotations__.get('num'))"
   ]
  },
  {
   "cell_type": "code",
   "execution_count": 3,
   "id": "fbec8e5c",
   "metadata": {},
   "outputs": [],
   "source": [
    "def add (x: int, y: int) -> int:\n",
    "    return  x + y"
   ]
  },
  {
   "cell_type": "code",
   "execution_count": 6,
   "id": "2031caf9",
   "metadata": {},
   "outputs": [
    {
     "name": "stdout",
     "output_type": "stream",
     "text": [
      "{'x': <class 'int'>, 'y': <class 'int'>, 'return': <class 'int'>}\n"
     ]
    }
   ],
   "source": [
    "total = (add(3,4))\n",
    "print(add.__annotations__)"
   ]
  },
  {
   "cell_type": "code",
   "execution_count": 10,
   "id": "61f0d9a5",
   "metadata": {},
   "outputs": [
    {
     "name": "stdout",
     "output_type": "stream",
     "text": [
      " Hello, my name is Tom. I'm 25 years old.\n"
     ]
    }
   ],
   "source": [
    "class Person:\n",
    "    name: str\n",
    "    age : int\n",
    "    \n",
    "    def __init__(self, name: str, age: int) -> None:\n",
    "        self.name = name\n",
    "        self.age = age\n",
    "\n",
    "    def greet(self) -> str:\n",
    "        return f\" Hello, my name is {self.name}. I'm {self.age} years old.\"\n",
    "\n",
    "if __name__ == \"__main__\":\n",
    "    person_1 = Person(\"Tom\", 25)\n",
    "    print(person_1.greet())\n"
   ]
  },
  {
   "cell_type": "code",
   "execution_count": 36,
   "id": "3074739d",
   "metadata": {},
   "outputs": [],
   "source": [
    "def is_prime(n: int):\n",
    "    factor = []\n",
    "    for i in range(n):\n",
    "        if n%(i+1) ==0:\n",
    "            factor.append(i+1)\n",
    "    if len(factor) == 2: \n",
    "        return True \n",
    "    "
   ]
  },
  {
   "cell_type": "code",
   "execution_count": 50,
   "id": "febc5fca",
   "metadata": {},
   "outputs": [],
   "source": [
    "def is_prime(n: int) -> bool:\n",
    "    factor = [(i+1) for i in range(n) if n%(i+1) ==0]\n",
    "    return True if len(factor) == 2 else False"
   ]
  },
  {
   "cell_type": "code",
   "execution_count": 53,
   "id": "85105ffb",
   "metadata": {},
   "outputs": [
    {
     "name": "stdout",
     "output_type": "stream",
     "text": [
      "True\n",
      "{'n': <class 'int'>, 'return': <class 'bool'>}\n"
     ]
    }
   ],
   "source": [
    "n = is_prime(5)\n",
    "print(n)\n",
    "print(is_prime.__annotations__)"
   ]
  },
  {
   "cell_type": "code",
   "execution_count": 6,
   "id": "4f4897e7",
   "metadata": {},
   "outputs": [
    {
     "name": "stdout",
     "output_type": "stream",
     "text": [
      "Value is 42\n"
     ]
    }
   ],
   "source": [
    "class Weird:\n",
    "    def __init__(banana, value):\n",
    "        banana.value = value\n",
    "\n",
    "    def show(apple):\n",
    "        return f\"Value is {apple.value}\"\n",
    "\n",
    "obj = Weird(42)\n",
    "print(obj.show())\n"
   ]
  },
  {
   "cell_type": "code",
   "execution_count": 12,
   "id": "cc6a6f17",
   "metadata": {},
   "outputs": [
    {
     "name": "stdout",
     "output_type": "stream",
     "text": [
      "9 1\n"
     ]
    }
   ],
   "source": [
    "class Cat:\n",
    "    __age = 0\n",
    "    def describe(age, this):\n",
    "        age.__age = 9\n",
    "        print(age.__age, this)\n",
    "\n",
    "cat = Cat()\n",
    "cat.describe(1)\n"
   ]
  },
  {
   "cell_type": "code",
   "execution_count": 20,
   "id": "11cf32d6",
   "metadata": {},
   "outputs": [
    {
     "name": "stdout",
     "output_type": "stream",
     "text": [
      "1\n"
     ]
    }
   ],
   "source": [
    "class Animal():\n",
    "    def __init__(self):\n",
    "        self.age = 1\n",
    "\n",
    "class Cat(Animal):\n",
    "    def __init__(self):\n",
    "        self.age =2\n",
    "        super().__init__()\n",
    "    \n",
    "    def describe(self):\n",
    "        print(self.age)\n",
    "\n",
    "a_cat = Cat()\n",
    "a_cat.describe()"
   ]
  }
 ],
 "metadata": {
  "kernelspec": {
   "display_name": "myenv",
   "language": "python",
   "name": "python3"
  },
  "language_info": {
   "codemirror_mode": {
    "name": "ipython",
    "version": 3
   },
   "file_extension": ".py",
   "mimetype": "text/x-python",
   "name": "python",
   "nbconvert_exporter": "python",
   "pygments_lexer": "ipython3",
   "version": "3.10.16"
  }
 },
 "nbformat": 4,
 "nbformat_minor": 5
}
