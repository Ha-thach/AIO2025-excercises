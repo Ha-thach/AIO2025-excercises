{
 "cells": [
  {
   "cell_type": "markdown",
   "id": "99e1a8d4",
   "metadata": {},
   "source": [
    "Viết một chương trình Python để tìm kiếm và in ra vị trí của một số mặt hàng trong một danh sách\n",
    "thực phẩm. Danh sách thực phẩm được biểu diễn dưới dạng một list hai chiều, trong đó mỗi hàng chứa\n",
    "thông tin về các mặt hàng có sẵn trong cửa hàng.\n",
    "Bạn hãy tìm kiếm và in ra vị trí của mỗi mặt hàng cần tìm kiếm trong danh sách thực phẩm. Chương\n",
    "trình cần in ra hàng và cột của từng mặt hàng được tìm thấy?"
   ]
  },
  {
   "cell_type": "code",
   "execution_count": null,
   "id": "27d9ed5b",
   "metadata": {},
   "outputs": [],
   "source": []
  },
  {
   "cell_type": "code",
   "execution_count": 4,
   "id": "ad48fb63",
   "metadata": {},
   "outputs": [
    {
     "data": {
      "text/plain": [
       "3"
      ]
     },
     "execution_count": 4,
     "metadata": {},
     "output_type": "execute_result"
    }
   ],
   "source": [
    "#tìm ra vị trí của một phần tử trong list of list\n",
    "food_list = [\n",
    "    [\"Bơ\", \" Pizza \", \"Sữa\"] ,\n",
    "    [\"Xúc xích\", \"Táo\", \"Kem \"] ,\n",
    "    [\"Cà rốt\", \"Bánh dâu\", \" Cupcake \"]\n",
    "    ] \n",
    "\n",
    "len(food_list)"
   ]
  },
  {
   "cell_type": "code",
   "execution_count": null,
   "id": "b22f32b9",
   "metadata": {},
   "outputs": [
    {
     "name": "stdout",
     "output_type": "stream",
     "text": [
      "Position of Cà rốt is 3 row and 1 column\n",
      "Position of Táo is 2 row and 2 column\n",
      "Position of Sữa is 1 row and 3 column\n"
     ]
    }
   ],
   "source": [
    "\"\"\"\n",
    "Search for items in a 2D list (list of list) and print their positions.\n",
    "\n",
    "This code iterates over a list of target items (`search_items`), \n",
    "and for each item, scans through all rows and columns of a 2D list (`food_list`). \n",
    "When a match is found, it prints the item's position with 1-based row and column indices.\n",
    "\n",
    "Example output:\n",
    "    Position of Cà rốt is 2 row and 3 column\n",
    "\n",
    "Notes:\n",
    "- Indexing starts at 1 for both rows and columns to improve readability.\n",
    "- The code prints all occurrences of each search item.\n",
    "\"\"\"\n",
    "search_items = [\"Cà rốt\", \"Táo\", \"Sữa\"]\n",
    "\n",
    "for search_value in search_items:\n",
    "    for i_row, row_list in enumerate(food_list, start=1):\n",
    "        for j_column, value in enumerate(row_list, start=1):\n",
    "            if search_value == value:\n",
    "                print(f'Position of {search_value} is {i_row} row and {j_column} column')\n"
   ]
  },
  {
   "cell_type": "markdown",
   "id": "6a62226e",
   "metadata": {},
   "source": [
    "Remember that By default, Python’s enumerate starts counting from 0, matching the list’s zero-based indexing. However, in many cases, especially when showing results to users, counting from 1 is more natural. Setting start=1 in enumerate changes the numbering so that rows and columns are labeled starting at 1 instead of 0. This doesn’t change the order or range of the loop — it still loops through all elements from start to end — it only affects how the positions are counted and displayed.\n",
    "\n",
    "\n",
    "\n",
    "\n",
    "\n",
    "\n",
    "\n"
   ]
  },
  {
   "cell_type": "code",
   "execution_count": 37,
   "id": "1d733807",
   "metadata": {},
   "outputs": [
    {
     "data": {
      "text/plain": [
       "[]"
      ]
     },
     "execution_count": 37,
     "metadata": {},
     "output_type": "execute_result"
    }
   ],
   "source": [
    "a = [4, 5, 6, 7,7,9]\n",
    "a[-2:-5:1]"
   ]
  },
  {
   "cell_type": "code",
   "execution_count": 46,
   "id": "c109b7bc",
   "metadata": {},
   "outputs": [
    {
     "name": "stdout",
     "output_type": "stream",
     "text": [
      "[5, 5, 5, 5, 10, 12, 33, 33]\n"
     ]
    }
   ],
   "source": [
    "def get_max_list_over_kernel(num_list, kernel_size=3):\n",
    "    \"\"\"\n",
    "    Tìm giá trị lớn nhất trong cửa sổ trượt trên danh sách cho trước\n",
    "Bài toán Cho một list các số nguyên num_list và một sliding window có kích thước size k di\n",
    "chuyển từ trái sang phải. Mỗi lần dịch chuyển 1 vị trí sang phải có thể nhìn thấy đươc k số\n",
    "trong num_list và tìm số lớn nhất trong k số này sau mỗi lần trượt k phải lớn hơn hoặc bằng 1.\n",
    "• Input: num_list = [3, 4, 5, 1, -44 , 5 ,10, 12 ,33, 1] với k=3\n",
    "• Output: [5, 5, 5, 5, 10, 12, 33, 33]\n",
    "    \"\"\"\n",
    "    max_over_kernel_list = []\n",
    "    for i in range(len(num_list)- kernel_size+1):\n",
    "        kernel=num_list[i:i+kernel_size]\n",
    "        kernel.sort()\n",
    "        max=kernel[2]\n",
    "        max_over_kernel_list.append(max)\n",
    "    return max_over_kernel_list\n",
    "\n",
    "assert get_max_list_over_kernel([3 , 4 , 5 , 1 , -44], 3) == [5, 5, 5]\n",
    "num_list = [3, 4, 5, 1, -44 , 5 ,10, 12 ,33, 1]\n",
    "k = 3\n",
    "print(get_max_list_over_kernel(num_list, k))\n"
   ]
  },
  {
   "cell_type": "code",
   "execution_count": 5,
   "id": "8f832b2d",
   "metadata": {},
   "outputs": [
    {
     "ename": "UnboundLocalError",
     "evalue": "cannot access local variable 'max' where it is not associated with a value",
     "output_type": "error",
     "traceback": [
      "\u001b[0;31m---------------------------------------------------------------------------\u001b[0m",
      "\u001b[0;31mUnboundLocalError\u001b[0m                         Traceback (most recent call last)",
      "Cell \u001b[0;32mIn[5], line 17\u001b[0m\n\u001b[1;32m     14\u001b[0m         max_over_kernel_list\u001b[38;5;241m.\u001b[39mappend(\u001b[38;5;28mmax\u001b[39m)\n\u001b[1;32m     15\u001b[0m     \u001b[38;5;28;01mreturn\u001b[39;00m max_over_kernel_list\n\u001b[0;32m---> 17\u001b[0m \u001b[38;5;28;01massert\u001b[39;00m get_max_list_over_kernel_v2([\u001b[38;5;241m3\u001b[39m , \u001b[38;5;241m4\u001b[39m , \u001b[38;5;241m5\u001b[39m , \u001b[38;5;241m1\u001b[39m , \u001b[38;5;241m-\u001b[39m\u001b[38;5;241m44\u001b[39m], \u001b[38;5;241m3\u001b[39m) \u001b[38;5;241m==\u001b[39m [\u001b[38;5;241m5\u001b[39m, \u001b[38;5;241m5\u001b[39m, \u001b[38;5;241m5\u001b[39m]\n\u001b[1;32m     18\u001b[0m num_list \u001b[38;5;241m=\u001b[39m [\u001b[38;5;241m3\u001b[39m, \u001b[38;5;241m4\u001b[39m, \u001b[38;5;241m5\u001b[39m, \u001b[38;5;241m1\u001b[39m, \u001b[38;5;241m-\u001b[39m\u001b[38;5;241m44\u001b[39m , \u001b[38;5;241m5\u001b[39m ,\u001b[38;5;241m10\u001b[39m, \u001b[38;5;241m12\u001b[39m ,\u001b[38;5;241m33\u001b[39m, \u001b[38;5;241m1\u001b[39m]\n\u001b[1;32m     19\u001b[0m k \u001b[38;5;241m=\u001b[39m \u001b[38;5;241m3\u001b[39m\n",
      "Cell \u001b[0;32mIn[5], line 13\u001b[0m, in \u001b[0;36mget_max_list_over_kernel_v2\u001b[0;34m(num_list, kernel_size)\u001b[0m\n\u001b[1;32m     11\u001b[0m \u001b[38;5;28;01mfor\u001b[39;00m i \u001b[38;5;129;01min\u001b[39;00m \u001b[38;5;28mrange\u001b[39m(\u001b[38;5;28mlen\u001b[39m(num_list)\u001b[38;5;241m-\u001b[39m kernel_size\u001b[38;5;241m+\u001b[39m\u001b[38;5;241m1\u001b[39m):\n\u001b[1;32m     12\u001b[0m     kernel\u001b[38;5;241m=\u001b[39mnum_list[i:i\u001b[38;5;241m+\u001b[39mkernel_size]\n\u001b[0;32m---> 13\u001b[0m     \u001b[38;5;28mmax\u001b[39m\u001b[38;5;241m=\u001b[39m\u001b[38;5;28mmax\u001b[39m(kernel)\n\u001b[1;32m     14\u001b[0m     max_over_kernel_list\u001b[38;5;241m.\u001b[39mappend(\u001b[38;5;28mmax\u001b[39m)\n\u001b[1;32m     15\u001b[0m \u001b[38;5;28;01mreturn\u001b[39;00m max_over_kernel_list\n",
      "\u001b[0;31mUnboundLocalError\u001b[0m: cannot access local variable 'max' where it is not associated with a value"
     ]
    }
   ],
   "source": [
    "def get_max_list_over_kernel_v2(num_list, kernel_size=3):\n",
    "    \"\"\"\n",
    "    Tìm giá trị lớn nhất trong cửa sổ trượt trên danh sách cho trước\n",
    "Bài toán Cho một list các số nguyên num_list và một sliding window có kích thước size k di\n",
    "chuyển từ trái sang phải. Mỗi lần dịch chuyển 1 vị trí sang phải có thể nhìn thấy đươc k số\n",
    "trong num_list và tìm số lớn nhất trong k số này sau mỗi lần trượt k phải lớn hơn hoặc bằng 1.\n",
    "• Input: num_list = [3, 4, 5, 1, -44 , 5 ,10, 12 ,33, 1] với k=3\n",
    "• Output: [5, 5, 5, 5, 10, 12, 33, 33]\n",
    "    \"\"\"\n",
    "    max_over_kernel_list = []\n",
    "    for i in range(len(num_list)- kernel_size+1):\n",
    "        kernel=num_list[i:i+kernel_size]\n",
    "        max=max(kernel)\n",
    "        max_over_kernel_list.append(max)\n",
    "    return max_over_kernel_list\n",
    "\n",
    "assert get_max_list_over_kernel_v2([3 , 4 , 5 , 1 , -44], 3) == [5, 5, 5]\n",
    "num_list = [3, 4, 5, 1, -44 , 5 ,10, 12 ,33, 1]\n",
    "k = 3\n",
    "print(get_max_list_over_kernel_v2(num_list, k))\n"
   ]
  },
  {
   "cell_type": "code",
   "execution_count": null,
   "id": "3d7c80f2",
   "metadata": {},
   "outputs": [],
   "source": []
  },
  {
   "cell_type": "code",
   "execution_count": 47,
   "id": "ced8b937",
   "metadata": {},
   "outputs": [
    {
     "name": "stdout",
     "output_type": "stream",
     "text": [
      "{'i': 1, 'm': 1, 'e': 1, 's': 2, 'l': 1}\n"
     ]
    }
   ],
   "source": [
    "def count_character(text):\n",
    "    \"\"\"\n",
    "    Trả về một dictionary đếm số lượng chữ cái xuất hiện trong một từ.\n",
    "    \n",
    "    Args:\n",
    "        text (str): Một chuỗi gồm các chữ cái [a-z] hoặc [A-Z]\n",
    "\n",
    "    Returns:\n",
    "        dict: Dictionary với key là chữ cái, value là số lần xuất hiện\n",
    "    \"\"\"\n",
    "    list_of_character = list(text)\n",
    "    unique_character = set(list_of_character)\n",
    "    result = {key: 0 for key in unique_character}\n",
    "    for char in list_of_character:\n",
    "        result[char] += 1\n",
    "    return result\n",
    "\n",
    "assert count_character(\"Baby\") == {\"B\": 1, \"a\": 1, \"b\": 1, \"y\": 1}\n",
    "print(count_character(\"smiles\"))\n"
   ]
  },
  {
   "cell_type": "code",
   "execution_count": 25,
   "id": "a2f16539",
   "metadata": {},
   "outputs": [
    {
     "name": "stdout",
     "output_type": "stream",
     "text": [
      "zsh:1: no matches found: https://drive.google.com/uc?id=1IBScGdW2xlNsc9v5zSAya548kNgiOrko\n"
     ]
    }
   ],
   "source": [
    "!gdown https://drive.google.com/uc?id=1IBScGdW2xlNsc9v5zSAya548kNgiOrko"
   ]
  },
  {
   "cell_type": "code",
   "execution_count": 48,
   "id": "45c08e23",
   "metadata": {},
   "outputs": [
    {
     "name": "stdout",
     "output_type": "stream",
     "text": [
      "6\n"
     ]
    }
   ],
   "source": [
    "def count_word(path):\n",
    "    \"\"\"\n",
    "    Trả về một dictionary đếm số lượng từ trong một đoạn văn bản.\n",
    "    Input: path to txt file \n",
    "    Output: dict {word: count}\n",
    "    \"\"\"\n",
    "    with open(path, \"r\", encoding=\"utf-8\") as file:\n",
    "        text = file.read()\n",
    "    text = text.lower()\n",
    "    words = text.split()  # Tách chuỗi thành danh sách các từ\n",
    "    word_count = {word: 0 for word in set(words)}  # Khởi tạo dict với giá trị ban đầu là 0\n",
    "    for word in words:\n",
    "        word_count[word] += 1\n",
    "    return word_count\n",
    "\n",
    "# Example\n",
    "result = count_word(\"/Users/thachha/Downloads/P1_data.txt\")\n",
    "assert result[\"who\"] == 3\n",
    "print(result[\"man\"])"
   ]
  },
  {
   "cell_type": "code",
   "execution_count": 19,
   "id": "5d5f1b71",
   "metadata": {},
   "outputs": [],
   "source": [
    "\n",
    "def two_sum(num_list, target):\n",
    "    for idx, value_1 in enumerate(num_list):\n",
    "        for jdx in range(idx+1, len(num_list)):\n",
    "            value_2=num_list[jdx]\n",
    "            if (value_1 + value_2) == target:\n",
    "                print(f'giá trị tại index{idx} and index{jdx} cộng lại bằng {target}')\n"
   ]
  },
  {
   "cell_type": "code",
   "execution_count": 9,
   "id": "4faebb80",
   "metadata": {},
   "outputs": [],
   "source": [
    "def print_2D_matrix(data, num_rows, num_cols):\n",
    "    for i in range(num_rows):\n",
    "        for j in range(num_cols):\n",
    "            print(data[i][j], end=' ')\n",
    "        print()\n"
   ]
  },
  {
   "cell_type": "code",
   "execution_count": 15,
   "id": "d235004e",
   "metadata": {},
   "outputs": [
    {
     "name": "stdout",
     "output_type": "stream",
     "text": [
      "[[0, 0, 0], [0, 0, 0]]\n"
     ]
    }
   ],
   "source": [
    "# create empty matrix with 2 rows and 2 columns\n",
    "mtrix = [[0]*3]*2\n",
    "print(mtrix)"
   ]
  },
  {
   "cell_type": "code",
   "execution_count": 42,
   "id": "67f69381",
   "metadata": {},
   "outputs": [],
   "source": [
    "# Bag of Words\n",
    "corpus = [\"Tôi thích môn Toán\", \"Tôi thích AI\", \"Tôi thích âm nhạc\"]\n",
    "vector = []\n"
   ]
  },
  {
   "cell_type": "code",
   "execution_count": 43,
   "id": "efbf9c7e",
   "metadata": {},
   "outputs": [
    {
     "name": "stdout",
     "output_type": "stream",
     "text": [
      "[['Tôi', 'thích', 'môn', 'Toán'], ['Tôi', 'thích', 'AI'], ['Tôi', 'thích', 'âm', 'nhạc']]\n"
     ]
    }
   ],
   "source": [
    "corpus_into_words =[]\n",
    "for sub_list in corpus:\n",
    "    word_list = sub_list.split()\n",
    "    corpus_into_words.append(word_list)\n",
    "print(corpus_into_words)\n",
    "\n"
   ]
  },
  {
   "cell_type": "code",
   "execution_count": 44,
   "id": "e25988ed",
   "metadata": {},
   "outputs": [
    {
     "name": "stdout",
     "output_type": "stream",
     "text": [
      "{'apple': 2, 'banana': 2, 'orange': 1}\n"
     ]
    }
   ],
   "source": [
    "words = ['apple', 'banana', 'apple', 'orange', 'banana']\n",
    "word_count = {}\n",
    "for word in words:\n",
    "    word_count[word] = word_count.get(word, 0) + 1\n",
    "print(word_count)"
   ]
  },
  {
   "cell_type": "code",
   "execution_count": 50,
   "id": "664d760a",
   "metadata": {},
   "outputs": [
    {
     "name": "stdout",
     "output_type": "stream",
     "text": [
      "True\n"
     ]
    }
   ],
   "source": [
    "def check_number(N):\n",
    "    list_of_numbers = []\n",
    "    result =''\n",
    "    for i in range(1,5):\n",
    "        list_of_numbers.append(i)\n",
    "    if N in list_of_numbers:\n",
    "        results = \"True\" \n",
    "    else: \n",
    "        results = \"false\"\n",
    "    return results\n",
    "\n",
    "N=2\n",
    "\n",
    "results = check_number(N)\n",
    "print(results)"
   ]
  },
  {
   "cell_type": "code",
   "execution_count": 52,
   "id": "a0c255a3",
   "metadata": {},
   "outputs": [
    {
     "name": "stdout",
     "output_type": "stream",
     "text": [
      "[2, 2, 2, 1, 1]\n"
     ]
    }
   ],
   "source": [
    "def my_function(data, max_value, min_value):\n",
    "    result = []\n",
    "    for i in data:\n",
    "        if i < min_value:\n",
    "            result.append(min_value)\n",
    "        elif i > max_value:\n",
    "            result.append(max_value)\n",
    "        else:\n",
    "            result.append(i)\n",
    "    return result\n",
    "\n",
    "# Test case 1\n",
    "my_list = [5, 2, 5, 0, 1]\n",
    "max_value = 1\n",
    "min_value = 0\n",
    "assert my_function(my_list, max_value, min_value) == [1, 1, 1, 0, 1]\n",
    "\n",
    "# Test case 2\n",
    "my_list = [10, 2, 5, 0, 1]\n",
    "max_value = 2\n",
    "min_value = 1\n",
    "print(my_function(my_list, max_value, min_value))  # Output: [2, 2, 2, 1, 1]\n"
   ]
  },
  {
   "cell_type": "code",
   "execution_count": 70,
   "id": "123ea96e",
   "metadata": {},
   "outputs": [],
   "source": [
    "def do_reverse(text):\n",
    "    return text.reverse()\n"
   ]
  },
  {
   "cell_type": "code",
   "execution_count": 97,
   "id": "a5a63806",
   "metadata": {},
   "outputs": [
    {
     "name": "stdout",
     "output_type": "stream",
     "text": [
      "ti od nac I\n"
     ]
    }
   ],
   "source": [
    "x = \"I can do it\"\n",
    "list_of_x = list(x)\n",
    "list_of_x.reverse()\n",
    "reversed_string = ''.join(list_of_x)\n",
    "print(reversed_string)\n",
    "\n",
    "\n"
   ]
  }
 ],
 "metadata": {
  "kernelspec": {
   "display_name": "base",
   "language": "python",
   "name": "python3"
  },
  "language_info": {
   "codemirror_mode": {
    "name": "ipython",
    "version": 3
   },
   "file_extension": ".py",
   "mimetype": "text/x-python",
   "name": "python",
   "nbconvert_exporter": "python",
   "pygments_lexer": "ipython3",
   "version": "3.12.7"
  }
 },
 "nbformat": 4,
 "nbformat_minor": 5
}
