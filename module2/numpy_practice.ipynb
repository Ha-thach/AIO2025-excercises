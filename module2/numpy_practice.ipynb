{
 "cells": [
  {
   "cell_type": "code",
   "execution_count": 3,
   "id": "2e0e1d3c",
   "metadata": {},
   "outputs": [],
   "source": [
    "import numpy as np"
   ]
  },
  {
   "cell_type": "code",
   "execution_count": null,
   "id": "d310249a",
   "metadata": {},
   "outputs": [
    {
     "name": "stdout",
     "output_type": "stream",
     "text": [
      "[1 2 3]\n",
      "<class 'numpy.ndarray'>\n",
      "(3,)\n",
      "int64\n",
      "3\n",
      "1\n"
     ]
    }
   ],
   "source": [
    "arr = np.array([1, 2, 3])\n",
    "print(arr)\n",
    "print(type(arr))\n",
    "print(arr.shape)\n",
    "print(arr.dtype)\n",
    "print(arr.size)\n",
    "print(arr.ndim)\n",
    "\n",
    "# [1 2 3]\n",
    "# <class 'numpy.ndarray'>\n",
    "# (3,)\n",
    "# int64\n",
    "# 3\n",
    "# 1"
   ]
  },
  {
   "cell_type": "code",
   "execution_count": 51,
   "id": "9818b415",
   "metadata": {},
   "outputs": [
    {
     "name": "stdout",
     "output_type": "stream",
     "text": [
      "[1 2 3]\n",
      "(3,)\n"
     ]
    }
   ],
   "source": [
    "print(arr)\n",
    "type(arr)\n",
    "print(arr.shape)"
   ]
  },
  {
   "cell_type": "code",
   "execution_count": null,
   "id": "f2b677c3",
   "metadata": {},
   "outputs": [
    {
     "data": {
      "text/plain": [
       "array([[0., 0.],\n",
       "       [0., 0.],\n",
       "       [0., 0.]])"
      ]
     },
     "execution_count": 63,
     "metadata": {},
     "output_type": "execute_result"
    }
   ],
   "source": [
    "np.zeros((3, 2))  # 3 hàng, 2 cột\n",
    "# array([[0., 0.],\n",
    "#        [0., 0.],\n",
    "#        [0., 0.]])"
   ]
  },
  {
   "cell_type": "code",
   "execution_count": null,
   "id": "7258b433",
   "metadata": {},
   "outputs": [
    {
     "data": {
      "text/plain": [
       "array([[1., 1., 1.],\n",
       "       [1., 1., 1.]])"
      ]
     },
     "execution_count": 65,
     "metadata": {},
     "output_type": "execute_result"
    }
   ],
   "source": [
    "np.ones((2,3))\n",
    "# array([[1., 1., 1.],\n",
    "#        [1., 1., 1.]])"
   ]
  },
  {
   "cell_type": "code",
   "execution_count": null,
   "id": "88aa98cb",
   "metadata": {},
   "outputs": [
    {
     "data": {
      "text/plain": [
       "array([[7, 7],\n",
       "       [7, 7]])"
      ]
     },
     "execution_count": 66,
     "metadata": {},
     "output_type": "execute_result"
    }
   ],
   "source": [
    "np.full((2, 2), 7)\n",
    "# array([[7, 7],\n",
    "#        [7, 7]])"
   ]
  },
  {
   "cell_type": "code",
   "execution_count": null,
   "id": "fb464a5f",
   "metadata": {},
   "outputs": [
    {
     "data": {
      "text/plain": [
       "array([0, 2, 4, 6, 8])"
      ]
     },
     "execution_count": 67,
     "metadata": {},
     "output_type": "execute_result"
    }
   ],
   "source": [
    "np.arange(0, 10, 2)\n",
    "#array([0, 2, 4, 6, 8])"
   ]
  },
  {
   "cell_type": "code",
   "execution_count": 69,
   "id": "6e836689",
   "metadata": {},
   "outputs": [
    {
     "data": {
      "text/plain": [
       "array([[1., 0., 0.],\n",
       "       [0., 1., 0.],\n",
       "       [0., 0., 1.]])"
      ]
     },
     "execution_count": 69,
     "metadata": {},
     "output_type": "execute_result"
    }
   ],
   "source": [
    "np.eye(3)\n",
    "# array([[1., 0., 0.],\n",
    "#        [0., 1., 0.],\n",
    "#        [0., 0., 1.]])"
   ]
  },
  {
   "cell_type": "code",
   "execution_count": 70,
   "id": "82820455",
   "metadata": {},
   "outputs": [
    {
     "data": {
      "text/plain": [
       "2"
      ]
     },
     "execution_count": 70,
     "metadata": {},
     "output_type": "execute_result"
    }
   ],
   "source": [
    "arr = np.array([[1, 2], [3, 4]])\n",
    "arr[0, 1]"
   ]
  },
  {
   "cell_type": "code",
   "execution_count": null,
   "id": "f4ea638c",
   "metadata": {},
   "outputs": [
    {
     "name": "stdout",
     "output_type": "stream",
     "text": [
      "Nối theo chiều hàng (axis=0):\n",
      "[[1 2]\n",
      " [3 4]\n",
      " [5 6]\n",
      " [7 8]]\n",
      "\n",
      "Nối theo chiều cột (axis=1):\n",
      "[[1 2 5 6]\n",
      " [3 4 7 8]]\n"
     ]
    }
   ],
   "source": [
    "import numpy as np\n",
    "\n",
    "a = np.array([[1, 2],\n",
    "              [3, 4]])\n",
    "\n",
    "b = np.array([[5, 6],\n",
    "              [7, 8]])\n",
    "\n",
    "c = np.concatenate((a, b), axis=0)\n",
    "d = np.concatenate((a, b), axis=1)\n",
    "\n",
    "print(\"Nối theo chiều hàng (axis=0):\")\n",
    "print(c)\n",
    "\n",
    "print(\"\\nNối theo chiều cột (axis=1):\")\n",
    "print(d)\n",
    "# Nối theo chiều hàng (axis=0):\n",
    "# [[1 2]\n",
    "#  [3 4]\n",
    "#  [5 6]\n",
    "#  [7 8]]\n",
    "\n",
    "# Nối theo chiều cột (axis=1):\n",
    "# [[1 2 5 6]\n",
    "#  [3 4 7 8]]"
   ]
  },
  {
   "cell_type": "code",
   "execution_count": null,
   "id": "ea2cb4f1",
   "metadata": {},
   "outputs": [
    {
     "name": "stdout",
     "output_type": "stream",
     "text": [
      "[[1 2]\n",
      " [3 4]]\n"
     ]
    }
   ],
   "source": [
    "a = np.array([[1, 2]])\n",
    "b = np.array([[3, 4]])\n",
    "\n",
    "print(np.vstack((a, b)))\n",
    "# [[1 2]\n",
    "#  [3 4]]"
   ]
  },
  {
   "cell_type": "code",
   "execution_count": null,
   "id": "30774bc7",
   "metadata": {},
   "outputs": [
    {
     "name": "stdout",
     "output_type": "stream",
     "text": [
      "[[1 3]\n",
      " [2 4]]\n"
     ]
    }
   ],
   "source": [
    "a = np.array([[1], [2]])\n",
    "b = np.array([[3], [4]])\n",
    "\n",
    "print(np.hstack((a, b)))\n",
    "# [[1 3]\n",
    "#  [2 4]]"
   ]
  },
  {
   "cell_type": "code",
   "execution_count": null,
   "id": "75b89f8d",
   "metadata": {},
   "outputs": [
    {
     "name": "stdout",
     "output_type": "stream",
     "text": [
      "[[1 2 3]\n",
      " [4 5 6]]\n",
      "[[1 4]\n",
      " [2 5]\n",
      " [3 6]]\n"
     ]
    }
   ],
   "source": [
    "a = np.array([1, 2, 3])\n",
    "b = np.array([4, 5, 6])\n",
    "\n",
    "print(np.stack((a, b), axis=0))  # thêm chiều mới theo hàng\n",
    "print(np.stack((a, b), axis=1))  # thêm chiều mới theo cột\n",
    "# [[1 2 3]\n",
    "#  [4 5 6]]\n",
    "# [[1 4]\n",
    "#  [2 5]\n",
    "#  [3 6]]"
   ]
  },
  {
   "cell_type": "code",
   "execution_count": null,
   "id": "49539a9c",
   "metadata": {},
   "outputs": [
    {
     "name": "stdout",
     "output_type": "stream",
     "text": [
      "[[1 2 3]\n",
      " [4 5 6]]\n"
     ]
    }
   ],
   "source": [
    "import numpy as np\n",
    "\n",
    "arr = np.array([1, 2, 3, 4, 5, 6])\n",
    "\n",
    "reshaped = arr.reshape(2, 3)\n",
    "print(reshaped)\n",
    "# [[1 2 3]\n",
    "#  [4 5 6]]"
   ]
  },
  {
   "cell_type": "code",
   "execution_count": null,
   "id": "8fdaa24e",
   "metadata": {},
   "outputs": [
    {
     "name": "stdout",
     "output_type": "stream",
     "text": [
      "[[1 2]\n",
      " [3 4]\n",
      " [5 6]]\n"
     ]
    }
   ],
   "source": [
    "\n",
    "arr = np.array([1, 2, 3, 4, 5, 6])\n",
    "\n",
    "reshaped = arr.reshape(-1, 2)  # Tự tính số hàng\n",
    "print(reshaped)\n",
    "# [[1 2]\n",
    "#  [3 4]\n",
    "#  [5 6]]"
   ]
  },
  {
   "cell_type": "code",
   "execution_count": 80,
   "id": "45299fc1",
   "metadata": {},
   "outputs": [
    {
     "name": "stdout",
     "output_type": "stream",
     "text": [
      "(3,)\n",
      "(3, 1)\n",
      "(1, 3)\n"
     ]
    }
   ],
   "source": [
    "arr = np.array([1, 2, 3])\n",
    "print(arr.shape)         # (3,)\n",
    "\n",
    "arr_col = arr[:, np.newaxis]\n",
    "print(arr_col.shape)     # (3, 1)\n",
    "\n",
    "arr_row = arr[np.newaxis, :]\n",
    "print(arr_row.shape)     # (1, 3)"
   ]
  },
  {
   "cell_type": "code",
   "execution_count": 92,
   "id": "e2b41e1e",
   "metadata": {},
   "outputs": [
    {
     "name": "stdout",
     "output_type": "stream",
     "text": [
      "Thêm chiều dọc:(1, 3)\n",
      "[[1 2 3]]\n",
      "(3, 1)\n",
      "Thêm chiều dọc:(3, 1)\n",
      "[[1]\n",
      " [2]\n",
      " [3]]\n"
     ]
    }
   ],
   "source": [
    "arr = np.array([1, 2, 3])\n",
    "\n",
    "expanded_arr = np.expand_dims(arr, axis=0)\n",
    "print(f'Thêm chiều dọc:{expanded_arr.shape}')  # (1, 3) # thêm chiều trước trục 0 (thêm chiều dọc, tức là thêm hàng bao bọc):\n",
    "print(expanded_arr)\n",
    "\n",
    "expanded2 = np.expand_dims(arr, axis=1)\n",
    "print(expanded2.shape)  # (3, 1)\n",
    "print(f'Thêm chiều dọc:{expanded2.shape}')  # (3,1) => thêm chiều sau trục 0 (thêm chiều cột, tức là biến vector hàng thành vector cột)\n",
    "print(expanded2)\n"
   ]
  },
  {
   "cell_type": "code",
   "execution_count": 93,
   "id": "7643c72e",
   "metadata": {},
   "outputs": [
    {
     "name": "stdout",
     "output_type": "stream",
     "text": [
      "[1 2 3 4 5 6]\n",
      "[1 2 3 4 5 6]\n"
     ]
    }
   ],
   "source": [
    "arr = np.array([[1, 2, 3], [4, 5, 6]])\n",
    "\n",
    "print(arr.flatten())  # [1 2 3 4 5 6]\n",
    "print(arr.ravel())    # [1 2 3 4 5 6]\n"
   ]
  },
  {
   "cell_type": "code",
   "execution_count": null,
   "id": "53c62fdd",
   "metadata": {},
   "outputs": [
    {
     "name": "stdout",
     "output_type": "stream",
     "text": [
      "(array([2, 3, 4]),)\n",
      "[30 40 50]\n"
     ]
    }
   ],
   "source": [
    "import numpy as np\n",
    "\n",
    "arr = np.array([10, 20, 30, 40, 50])\n",
    "idx = np.where(arr > 25) #Nếu chỉ truyền condition, sẽ trả về index.\n",
    "print(idx) #(array([2, 3, 4]),)\n",
    "print(arr[idx]) #[30 40 50]\n"
   ]
  },
  {
   "cell_type": "code",
   "execution_count": 95,
   "id": "1795a65c",
   "metadata": {},
   "outputs": [
    {
     "name": "stdout",
     "output_type": "stream",
     "text": [
      "Chỉ số max: 3\n",
      "Chỉ số min: 2\n"
     ]
    }
   ],
   "source": [
    "arr = np.array([3, 7, 2, 9, 5])\n",
    "\n",
    "print(\"Chỉ số max:\", np.argmax(arr))  # 3\n",
    "print(\"Chỉ số min:\", np.argmin(arr))  # 2\n"
   ]
  },
  {
   "cell_type": "code",
   "execution_count": null,
   "id": "4ff94a39",
   "metadata": {},
   "outputs": [
    {
     "name": "stdout",
     "output_type": "stream",
     "text": [
      "[[2 5 8]\n",
      " [1 4 9]]\n"
     ]
    }
   ],
   "source": [
    "arr = np.array([[8, 2, 5], [4, 9, 1]])\n",
    "sorted_arr = np.sort(arr)\n",
    "print(sorted_arr)\n",
    "# [[2 5 8]\n",
    "#  [1 4 9]]"
   ]
  },
  {
   "cell_type": "code",
   "execution_count": null,
   "id": "53dcb297",
   "metadata": {},
   "outputs": [
    {
     "name": "stdout",
     "output_type": "stream",
     "text": [
      "Chỉ số sau sắp xếp: [1 2 0]\n",
      "Sắp xếp gián tiếp: [10 20 30]\n"
     ]
    }
   ],
   "source": [
    "arr = np.array([30, 10, 20])\n",
    "idx = np.argsort(arr)\n",
    "print(\"Chỉ số sau sắp xếp:\", idx)\n",
    "print(\"Sắp xếp gián tiếp:\", arr[idx])\n",
    "# Chỉ số sau sắp xếp: [1 2 0]\n",
    "# Sắp xếp gián tiếp: [10 20 30]"
   ]
  },
  {
   "cell_type": "code",
   "execution_count": 98,
   "id": "3e23e67b",
   "metadata": {},
   "outputs": [
    {
     "name": "stdout",
     "output_type": "stream",
     "text": [
      "True\n",
      "[ True False]\n"
     ]
    }
   ],
   "source": [
    "\n",
    "arr = np.array([1, 2, 3, 4, 5])\n",
    "print(3 in arr)  # True\n",
    "print(np.isin([2, 6], arr))  # [ True False ]\n"
   ]
  },
  {
   "cell_type": "code",
   "execution_count": null,
   "id": "1949f860",
   "metadata": {},
   "outputs": [
    {
     "name": "stdout",
     "output_type": "stream",
     "text": [
      "Cộng: [5 7 9]\n",
      "Trừ: [-3 -3 -3]\n",
      "Nhân: [ 4 10 18]\n",
      "Chia: [0.25 0.4  0.5 ]\n",
      "Lũy thừa: [1 4 9]\n"
     ]
    }
   ],
   "source": [
    "import numpy as np\n",
    "\n",
    "a = np.array([1, 2, 3])\n",
    "b = np.array([4, 5, 6])\n",
    "\n",
    "print(\"Cộng:\", a + b)\n",
    "print(\"Trừ:\", a - b)\n",
    "print(\"Nhân:\", a * b)\n",
    "print(\"Chia:\", a / b)\n",
    "print(\"Lũy thừa:\", a ** 2)\n",
    "# Cộng: [5 7 9]\n",
    "# Trừ: [-3 -3 -3]\n",
    "# Nhân: [ 4 10 18]\n",
    "# Chia: [0.25 0.4  0.5 ]\n",
    "# Lũy thừa: [1 4 9]"
   ]
  },
  {
   "cell_type": "code",
   "execution_count": 105,
   "id": "31b6b535",
   "metadata": {},
   "outputs": [
    {
     "name": "stdout",
     "output_type": "stream",
     "text": [
      "[[19 22]\n",
      " [43 50]]\n",
      "[[19 22]\n",
      " [43 50]]\n"
     ]
    }
   ],
   "source": [
    "A = np.array([[1, 2], [3, 4]])\n",
    "B = np.array([[5, 6], [7, 8]])\n",
    "\n",
    "print(np.dot(A, B)) \n",
    "print(A@B)\n",
    "# [[19 22]\n",
    "#  [43 50]]\n",
    "# [[19 22]\n",
    "#  [43 50]]"
   ]
  },
  {
   "cell_type": "code",
   "execution_count": 122,
   "id": "44f849c4",
   "metadata": {},
   "outputs": [
    {
     "name": "stdout",
     "output_type": "stream",
     "text": [
      "[-1  1  2 34 43]\n",
      "<class 'numpy.ndarray'>\n",
      "None\n"
     ]
    }
   ],
   "source": [
    "arr = numpy.array([-1,1,2,34,43])\n",
    "print(arr)\n",
    "print(type(arr))\n",
    "\n",
    "print(arr.sort())\n",
    "\n"
   ]
  },
  {
   "cell_type": "code",
   "execution_count": 145,
   "id": "eb28c557",
   "metadata": {},
   "outputs": [
    {
     "name": "stdout",
     "output_type": "stream",
     "text": [
      "[[2 5 8]\n",
      " [1 4 9]]\n",
      "[[1 4 9]\n",
      " [2 5 8]]\n"
     ]
    }
   ],
   "source": [
    "arr = np.array([[8, 2, 5],[1,9,4]])\n",
    "sorted_arr = np.sort(arr)\n",
    "print(sorted_arr)\n",
    "# [[2 5 8]\n",
    "#  [1 4 9]]\n",
    "print(sorted_arr[::-1])"
   ]
  },
  {
   "cell_type": "code",
   "execution_count": 149,
   "id": "75c2a6e6",
   "metadata": {},
   "outputs": [
    {
     "name": "stdout",
     "output_type": "stream",
     "text": [
      "(array([2, 3, 4]),)\n",
      "[30 40 50]\n"
     ]
    }
   ],
   "source": [
    "import numpy as np\n",
    "\n",
    "arr = np.array([10, 20, 30, 40, 50])\n",
    "idx = np.where(arr > 25) #Nếu chỉ truyền condition, sẽ trả về index.\n",
    "print(idx) #(array([2, 3, 4]),)\n",
    "print(arr[idx]) #[30 40 50]"
   ]
  },
  {
   "cell_type": "code",
   "execution_count": null,
   "id": "c688dd4b",
   "metadata": {},
   "outputs": [
    {
     "name": "stdout",
     "output_type": "stream",
     "text": [
      "8\n"
     ]
    }
   ],
   "source": [
    "# tính tổng số chẵn trong list\n",
    "lst= [6,5,7,1,9,2]\n",
    "print(sum([x for x in lst if x%2==0]))"
   ]
  },
  {
   "cell_type": "code",
   "execution_count": null,
   "id": "aa8baed2",
   "metadata": {},
   "outputs": [
    {
     "name": "stdout",
     "output_type": "stream",
     "text": [
      "[6 5 7 1 9 2]\n",
      "<class 'numpy.ndarray'>\n"
     ]
    },
    {
     "data": {
      "text/plain": [
       "8"
      ]
     },
     "execution_count": 162,
     "metadata": {},
     "output_type": "execute_result"
    }
   ],
   "source": [
    "# tổng số chẵn trong array numpy\n",
    "arr = numpy.array(lst)\n",
    "print(arr)\n",
    "print(type(arr))\n",
    "np.sum(arr[arr%2 ==0])"
   ]
  },
  {
   "cell_type": "code",
   "execution_count": null,
   "id": "02cd2591",
   "metadata": {},
   "outputs": [
    {
     "name": "stdout",
     "output_type": "stream",
     "text": [
      "[[11 22]\n",
      " [13 24]]\n"
     ]
    }
   ],
   "source": [
    "#cộng hai array không cùng shape> broadcasting trước => cộng sau\n",
    "a = np.array([[1, 2], [3, 4]])\n",
    "b = np.array([10, 20])  # shape (2,)\n",
    "\n",
    "print(a + b)\n",
    "# [[11 22]\n",
    "#  [13 24]]"
   ]
  },
  {
   "cell_type": "code",
   "execution_count": null,
   "id": "5f8a17f6",
   "metadata": {},
   "outputs": [
    {
     "name": "stdout",
     "output_type": "stream",
     "text": [
      "[2 5 8]\n",
      "[8 5 2]\n"
     ]
    }
   ],
   "source": [
    "# sắp xếp mảng theo thứ tự tăng dần, giảm dần\n",
    "import numpy as np\n",
    "arr = np.array([8, 2, 5])\n",
    "sorted_arr = np.sort(arr)\n",
    "print(sorted_arr) #[2 5 8]\n",
    "print(sorted_arr[::-1]) #[8 5 2]\n"
   ]
  },
  {
   "cell_type": "code",
   "execution_count": null,
   "id": "0fafb3c6",
   "metadata": {},
   "outputs": [
    {
     "name": "stdout",
     "output_type": "stream",
     "text": [
      "1.26.4\n"
     ]
    }
   ],
   "source": [
    "#Câu 1: in ra version of numpy\n",
    "print(numpy.version.version)"
   ]
  },
  {
   "cell_type": "code",
   "execution_count": null,
   "id": "a09a815b",
   "metadata": {},
   "outputs": [
    {
     "name": "stdout",
     "output_type": "stream",
     "text": [
      "[4 5 6 7 8 9]\n"
     ]
    }
   ],
   "source": [
    "# Câu 2: Tạo mảng một chiều từ 4 đến 9\n",
    "data = np.arange(4,10)\n",
    "print(data)"
   ]
  },
  {
   "cell_type": "code",
   "execution_count": 19,
   "id": "26488410",
   "metadata": {},
   "outputs": [
    {
     "name": "stdout",
     "output_type": "stream",
     "text": [
      "[[ True  True  True]\n",
      " [ True  True  True]\n",
      " [ True  True  True]]\n",
      "(3, 3)\n",
      "bool\n"
     ]
    }
   ],
   "source": [
    "# Câu 3: Tạo một mảng boolean 3x3 với tất cả giá trị là True\n",
    "data = numpy.full((3,3), True)\n",
    "print(data)\n",
    "print(data.shape)\n",
    "print(data.dtype)"
   ]
  },
  {
   "cell_type": "code",
   "execution_count": null,
   "id": "227543e6",
   "metadata": {},
   "outputs": [
    {
     "name": "stdout",
     "output_type": "stream",
     "text": [
      "[0 1 2 3 4 5 6 7 8 9]\n",
      "[1 3 5 7 9]\n"
     ]
    }
   ],
   "source": [
    "# Câu 4: Lấy những phần tử lẻ\n",
    "data = np.arange(0 , 10)\n",
    "print(data)\n",
    "print(data[data%2==1])"
   ]
  },
  {
   "cell_type": "code",
   "execution_count": null,
   "id": "8ec0205e",
   "metadata": {},
   "outputs": [
    {
     "name": "stdout",
     "output_type": "stream",
     "text": [
      "[0 1 2 3 4 5 6 7 8 9]\n",
      "[ 0 -1  2 -1  4 -1  6 -1  8 -1]\n"
     ]
    }
   ],
   "source": [
    "#Câu 5: Thay thế phần tử bằng -1\n",
    "data = np.arange(0 , 10) #[0 1 2 3 4 5 6 7 8 9]\n",
    "print(data)\n",
    "new = np.where(data%2==1, -1, data) #[ 0 -1  2 -1  4 -1  6 -1  8 -1]\n",
    "print(new)"
   ]
  },
  {
   "cell_type": "code",
   "execution_count": null,
   "id": "e0f85fe4",
   "metadata": {},
   "outputs": [
    {
     "name": "stdout",
     "output_type": "stream",
     "text": [
      "[0 1 2 3 4 5 6 7 8 9]\n",
      "[[0 1 2 3 4]\n",
      " [5 6 7 8 9]]\n",
      "(2, 5)\n",
      "10\n"
     ]
    }
   ],
   "source": [
    "#Câu 6: Chuyển định dạng (shape) của một ndarray. Chuyển mảng một chiều thành mảng hai chiều dùng reshape \n",
    "#Chú ý tích của shape(ndarray) = size(1D array)\n",
    "data = np.arange(0,10)\n",
    "new = data.reshape((2,5))\n",
    "print(data)\n",
    "print(new)\n",
    "print(new.shape)\n",
    "print(data.size)\n",
    "# [0 1 2 3 4 5 6 7 8 9]\n",
    "# [[0 1 2 3 4]\n",
    "#  [5 6 7 8 9]]\n",
    "# (2, 5)\n",
    "# 10"
   ]
  },
  {
   "cell_type": "code",
   "execution_count": 61,
   "id": "30f6e6fe",
   "metadata": {},
   "outputs": [
    {
     "name": "stdout",
     "output_type": "stream",
     "text": [
      "[[0 1 2 3 4]\n",
      " [5 6 7 8 9]]\n",
      "[[1 1 1 1 1]\n",
      " [1 1 1 1 1]]\n",
      "[[ True  True  True  True  True]\n",
      " [ True  True  True  True  True]\n",
      " [ True  True  True  True  True]\n",
      " [ True  True  True  True  True]]\n",
      "Stacked array:[[0 1 2 3 4]\n",
      " [5 6 7 8 9]\n",
      " [1 1 1 1 1]\n",
      " [1 1 1 1 1]]\n"
     ]
    }
   ],
   "source": [
    "# Câu 7: Xếp chồng 2 mảng theo chiều dọc => vertical => vstack\n",
    "data1 = np.arange(0,10).reshape((2,5))\n",
    "data2 = np.full(10,1).reshape((2,5))\n",
    "print(data1)\n",
    "print(data2)\n",
    "stacked = numpy.vstack((data1,data2))\n",
    "concatenated = numpy.concatenate((data1, data2), axis =0)\n",
    "print(stacked == concatenated)\n",
    "\n",
    "print(f'Stacked array:{stacked}')\n",
    "# [[0 1 2 3 4]\n",
    "#  [5 6 7 8 9]]\n",
    "# [[1 1 1 1 1]\n",
    "#  [1 1 1 1 1]]\n",
    "# Stacked array:[[0 1 2 3 4]\n",
    "#  [5 6 7 8 9]\n",
    "#  [1 1 1 1 1]\n",
    "#  [1 1 1 1 1]]"
   ]
  },
  {
   "cell_type": "code",
   "execution_count": 64,
   "id": "db43becc",
   "metadata": {},
   "outputs": [
    {
     "name": "stdout",
     "output_type": "stream",
     "text": [
      "[[0 1 2 3 4]\n",
      " [5 6 7 8 9]]\n",
      "[[1 1 1 1 1]\n",
      " [1 1 1 1 1]]\n",
      "[[ True  True  True  True  True  True  True  True  True  True]\n",
      " [ True  True  True  True  True  True  True  True  True  True]]\n",
      "Stacked array:\n",
      "[[0 1 2 3 4 1 1 1 1 1]\n",
      " [5 6 7 8 9 1 1 1 1 1]]\n"
     ]
    }
   ],
   "source": [
    "# Câu 8: Xếp chồng 2 mảng theo chiều ngang => hstack\n",
    "data1 = np.arange(0,10).reshape((2,5))\n",
    "data2 = np.full(10,1).reshape((2,5))\n",
    "print(data1)\n",
    "print(data2)\n",
    "stacked = numpy.hstack((data1,data2))\n",
    "concatenated = numpy.concatenate((data1, data2), axis =1)\n",
    "print(stacked == concatenated)\n",
    "\n",
    "print(f'Stacked array:\\n{stacked}')\n",
    "# [[0 1 2 3 4]\n",
    "#  [5 6 7 8 9]]\n",
    "# [[1 1 1 1 1]\n",
    "#  [1 1 1 1 1]]\n",
    "# Stacked array:[[0 1 2 3 4]\n",
    "#  [5 6 7 8 9]\n",
    "#  [1 1 1 1 1]\n",
    "#  [1 1 1 1 1]]"
   ]
  },
  {
   "cell_type": "code",
   "execution_count": 65,
   "id": "2a78e4f2",
   "metadata": {},
   "outputs": [
    {
     "name": "stdout",
     "output_type": "stream",
     "text": [
      "[1 1 2 2 3 3]\n"
     ]
    }
   ],
   "source": [
    "#Câu 9: Lặp data với repeat() và tile()\n",
    "import numpy as np\n",
    "\n",
    "arr = np.array([1, 2, 3])\n",
    "repeated = np.repeat(arr, 2)\n",
    "print(repeated)\n",
    "# [1 1 2 2 3 3]\n"
   ]
  },
  {
   "cell_type": "code",
   "execution_count": null,
   "id": "2bd2ddd7",
   "metadata": {},
   "outputs": [
    {
     "name": "stdout",
     "output_type": "stream",
     "text": [
      "[1 5 5 7 7 7]\n"
     ]
    }
   ],
   "source": [
    "arr = np.array([1,5,7])\n",
    "repeated = np.repeat(arr, [1, 2, 3])\n",
    "print(repeated)\n",
    "# [1 5 5 7 7 7]"
   ]
  },
  {
   "cell_type": "code",
   "execution_count": 68,
   "id": "901a95e7",
   "metadata": {},
   "outputs": [
    {
     "name": "stdout",
     "output_type": "stream",
     "text": [
      "[[1 2]\n",
      " [1 2]\n",
      " [3 4]\n",
      " [3 4]]\n"
     ]
    }
   ],
   "source": [
    "arr2d = np.array([[1, 2], [3, 4]])\n",
    "print(np.repeat(arr2d, 2, axis=0))\n",
    "# [[1 2]\n",
    "#  [1 2]\n",
    "#  [3 4]\n",
    "#  [3 4]]"
   ]
  },
  {
   "cell_type": "code",
   "execution_count": 69,
   "id": "25f25ae0",
   "metadata": {},
   "outputs": [
    {
     "name": "stdout",
     "output_type": "stream",
     "text": [
      "[1 2 3 1 2 3]\n"
     ]
    }
   ],
   "source": [
    "arr = np.array([1, 2, 3])\n",
    "tiled = np.tile(arr, 2)\n",
    "print(tiled)\n",
    "# [1 2 3 1 2 3]"
   ]
  },
  {
   "cell_type": "code",
   "execution_count": null,
   "id": "2cc21aa2",
   "metadata": {},
   "outputs": [],
   "source": [
    "arr2d = np.array([[1, 2], [3, 4]])\n",
    "tiled = np.tile(arr2d, (2, 3))  # (rows, columns)\n",
    "print(tiled)\n",
    "# [[1 2 1 2 1 2]\n",
    "#  [3 4 3 4 3 4]\n",
    "#  [1 2 1 2 1 2]\n",
    "#  [3 4 3 4 3 4]]\n",
    "\n"
   ]
  },
  {
   "cell_type": "code",
   "execution_count": null,
   "id": "20605cb7",
   "metadata": {},
   "outputs": [
    {
     "name": "stdout",
     "output_type": "stream",
     "text": [
      "[1 2]\n"
     ]
    }
   ],
   "source": [
    "# Câu 10: Lấy phần tử chung của 2 mảng dùng intersect1d()\n",
    "data1 = numpy.array([1,2,3,3])\n",
    "data2 = numpy.array([7,2,1,8])\n",
    "\n",
    "intersect_ = numpy.intersect1d(data1, data2)\n",
    "print(intersect_) #[1 2]\n"
   ]
  },
  {
   "cell_type": "code",
   "execution_count": null,
   "id": "5571b2d0",
   "metadata": {},
   "outputs": [
    {
     "name": "stdout",
     "output_type": "stream",
     "text": [
      "[2 3 4]\n"
     ]
    }
   ],
   "source": [
    "# Xoá phần tử từ một mảng mà tồn tại trong một mảng khác\n",
    "data1 = numpy.arange(1,6)\n",
    "data2 = numpy.array([1,5,9])\n",
    "out = numpy.setdiff1d(data1, data2)\n",
    "print(out) #[2 3 4]"
   ]
  },
  {
   "cell_type": "code",
   "execution_count": null,
   "id": "aa94f283",
   "metadata": {},
   "outputs": [],
   "source": [
    "\n"
   ]
  },
  {
   "cell_type": "code",
   "execution_count": null,
   "id": "56e67af2",
   "metadata": {},
   "outputs": [],
   "source": []
  }
 ],
 "metadata": {
  "kernelspec": {
   "display_name": "base",
   "language": "python",
   "name": "python3"
  },
  "language_info": {
   "codemirror_mode": {
    "name": "ipython",
    "version": 3
   },
   "file_extension": ".py",
   "mimetype": "text/x-python",
   "name": "python",
   "nbconvert_exporter": "python",
   "pygments_lexer": "ipython3",
   "version": "3.12.7"
  }
 },
 "nbformat": 4,
 "nbformat_minor": 5
}
