{
 "cells": [
  {
   "cell_type": "markdown",
   "id": "7633ea34",
   "metadata": {},
   "source": [
    "# 🧮 NumPy Practice Notebook\n",
    "\n",
    "This notebook follows structured notes about NumPy basics.\n",
    "It includes array definitions, attributes, and common operations.\n",
    "Đọc taking-note tại đây: https://www.notion.so/Numpy-basic-224b7bb79843806f87b3f35685b742b6?source=copy_link "
   ]
  },
  {
   "cell_type": "code",
   "execution_count": 7,
   "id": "69df967f",
   "metadata": {},
   "outputs": [],
   "source": [
    "import numpy as np"
   ]
  },
  {
   "cell_type": "markdown",
   "id": "ab161ad3",
   "metadata": {},
   "source": [
    "## Thuộc tính của mảng\n",
    "Các thuộc tính thường dùng:\n",
    "- `.shape`: kích thước mảng\n",
    "- `.dtype`: kiểu dữ liệu\n",
    "- `.ndim`: số chiều\n",
    "- `.size`: tổng số phần tử"
   ]
  },
  {
   "cell_type": "code",
   "execution_count": 8,
   "id": "bb55e5c7",
   "metadata": {},
   "outputs": [
    {
     "name": "stdout",
     "output_type": "stream",
     "text": [
      "[1 2 3]\n",
      "<class 'numpy.ndarray'>\n",
      "(3,)\n",
      "int64\n",
      "3\n",
      "1\n"
     ]
    }
   ],
   "source": [
    "arr = np.array([1, 2, 3])\n",
    "print(arr)\n",
    "print(type(arr))\n",
    "print(arr.shape)\n",
    "print(arr.dtype)\n",
    "print(arr.size)\n",
    "print(arr.ndim)\n",
    "\n",
    "# [1 2 3]\n",
    "# <class 'numpy.ndarray'>\n",
    "# (3,)\n",
    "# int64\n",
    "# 3\n",
    "# 1"
   ]
  },
  {
   "cell_type": "markdown",
   "id": "61bb5854",
   "metadata": {},
   "source": [
    "## Tạo mảng từ dữ liệu có sẵn (list, tuple)\n",
    "```python\n",
    "np.array(object)\n",
    "```\n",
    "Chuyển list/tuple thành mảng NumPy."
   ]
  },
  {
   "cell_type": "markdown",
   "id": "b1c9851d",
   "metadata": {},
   "source": [
    "### Tạo mảng từ list hoặc tuple"
   ]
  },
  {
   "cell_type": "code",
   "execution_count": 9,
   "id": "2e0e1d3c",
   "metadata": {},
   "outputs": [
    {
     "name": "stdout",
     "output_type": "stream",
     "text": [
      "[1 2 3]\n"
     ]
    }
   ],
   "source": [
    "import numpy as np\n",
    "arr = np.array([1, 2, 3])\n",
    "print(arr)"
   ]
  },
  {
   "cell_type": "markdown",
   "id": "8984bff0",
   "metadata": {},
   "source": [
    "## 2 Tạo mảng từ các hàm có sẵn\n",
    "Một số hàm phổ biến:\n",
    "- `np.zeros(shape)`\n",
    "- `np.ones(shape)`\n",
    "- `np.full(shape, fill_value)`\n",
    "- `np.arange(start, stop, step)`\n",
    "- `np.eye(N)`"
   ]
  },
  {
   "cell_type": "code",
   "execution_count": 10,
   "id": "9818b415",
   "metadata": {},
   "outputs": [
    {
     "name": "stdout",
     "output_type": "stream",
     "text": [
      "[1 2 3]\n",
      "(3,)\n"
     ]
    }
   ],
   "source": [
    "print(arr)\n",
    "type(arr)\n",
    "print(arr.shape)"
   ]
  },
  {
   "cell_type": "markdown",
   "id": "d10d3247",
   "metadata": {},
   "source": [
    "### Tạo mảng toàn 0"
   ]
  },
  {
   "cell_type": "code",
   "execution_count": 11,
   "id": "f2b677c3",
   "metadata": {},
   "outputs": [
    {
     "data": {
      "text/plain": [
       "array([[0., 0.],\n",
       "       [0., 0.],\n",
       "       [0., 0.]])"
      ]
     },
     "execution_count": 11,
     "metadata": {},
     "output_type": "execute_result"
    }
   ],
   "source": [
    "np.zeros((3, 2))  # 3 hàng, 2 cột\n",
    "# array([[0., 0.],\n",
    "#        [0., 0.],\n",
    "#        [0., 0.]])"
   ]
  },
  {
   "cell_type": "markdown",
   "id": "b7fdd46f",
   "metadata": {},
   "source": [
    "### Tạo mảng toàn 1"
   ]
  },
  {
   "cell_type": "code",
   "execution_count": 12,
   "id": "7258b433",
   "metadata": {},
   "outputs": [
    {
     "data": {
      "text/plain": [
       "array([[1., 1., 1.],\n",
       "       [1., 1., 1.]])"
      ]
     },
     "execution_count": 12,
     "metadata": {},
     "output_type": "execute_result"
    }
   ],
   "source": [
    "np.ones((2,3))\n",
    "# array([[1., 1., 1.],\n",
    "#        [1., 1., 1.]])"
   ]
  },
  {
   "cell_type": "markdown",
   "id": "7d1d3904",
   "metadata": {},
   "source": [
    "### Tạo mảng với giá trị cố định"
   ]
  },
  {
   "cell_type": "code",
   "execution_count": 13,
   "id": "88aa98cb",
   "metadata": {},
   "outputs": [
    {
     "data": {
      "text/plain": [
       "array([[7, 7],\n",
       "       [7, 7]])"
      ]
     },
     "execution_count": 13,
     "metadata": {},
     "output_type": "execute_result"
    }
   ],
   "source": [
    "np.full((2, 2), 7)\n",
    "# array([[7, 7],\n",
    "#        [7, 7]])"
   ]
  },
  {
   "cell_type": "markdown",
   "id": "d88e68b5",
   "metadata": {},
   "source": [
    "### Tạo mảng với np.arange"
   ]
  },
  {
   "cell_type": "code",
   "execution_count": 14,
   "id": "fb464a5f",
   "metadata": {},
   "outputs": [
    {
     "data": {
      "text/plain": [
       "array([0, 2, 4, 6, 8])"
      ]
     },
     "execution_count": 14,
     "metadata": {},
     "output_type": "execute_result"
    }
   ],
   "source": [
    "np.arange(0, 10, 2)\n",
    "#array([0, 2, 4, 6, 8])"
   ]
  },
  {
   "cell_type": "markdown",
   "id": "bb8b8e0d",
   "metadata": {},
   "source": [
    "### Tạo ma trận đơn vị"
   ]
  },
  {
   "cell_type": "code",
   "execution_count": 15,
   "id": "6e836689",
   "metadata": {},
   "outputs": [
    {
     "data": {
      "text/plain": [
       "array([[1., 0., 0.],\n",
       "       [0., 1., 0.],\n",
       "       [0., 0., 1.]])"
      ]
     },
     "execution_count": 15,
     "metadata": {},
     "output_type": "execute_result"
    }
   ],
   "source": [
    "np.eye(3)\n",
    "# array([[1., 0., 0.],\n",
    "#        [0., 1., 0.],\n",
    "#        [0., 0., 1.]])"
   ]
  },
  {
   "cell_type": "markdown",
   "id": "4e713d13",
   "metadata": {},
   "source": [
    "### Tạo mảng từ list hoặc tuple"
   ]
  },
  {
   "cell_type": "code",
   "execution_count": 16,
   "id": "82820455",
   "metadata": {},
   "outputs": [
    {
     "data": {
      "text/plain": [
       "np.int64(2)"
      ]
     },
     "execution_count": 16,
     "metadata": {},
     "output_type": "execute_result"
    }
   ],
   "source": [
    "arr = np.array([[1, 2], [3, 4]])\n",
    "arr[0, 1]"
   ]
  },
  {
   "cell_type": "markdown",
   "id": "0368be6d",
   "metadata": {},
   "source": [
    "## Nối mảng "
   ]
  },
  {
   "cell_type": "markdown",
   "id": "cb2c7423",
   "metadata": {},
   "source": [
    "### Concatenate"
   ]
  },
  {
   "cell_type": "code",
   "execution_count": 17,
   "id": "f4ea638c",
   "metadata": {},
   "outputs": [
    {
     "name": "stdout",
     "output_type": "stream",
     "text": [
      "Nối theo chiều hàng (axis=0):\n",
      "[[1 2]\n",
      " [3 4]\n",
      " [5 6]\n",
      " [7 8]]\n",
      "\n",
      "Nối theo chiều cột (axis=1):\n",
      "[[1 2 5 6]\n",
      " [3 4 7 8]]\n"
     ]
    }
   ],
   "source": [
    "import numpy as np\n",
    "\n",
    "a = np.array([[1, 2],\n",
    "              [3, 4]])\n",
    "\n",
    "b = np.array([[5, 6],\n",
    "              [7, 8]])\n",
    "\n",
    "c = np.concatenate((a, b), axis=0)\n",
    "d = np.concatenate((a, b), axis=1)\n",
    "\n",
    "print(\"Nối theo chiều hàng (axis=0):\")\n",
    "print(c)\n",
    "\n",
    "print(\"\\nNối theo chiều cột (axis=1):\")\n",
    "print(d)\n",
    "# Nối theo chiều hàng (axis=0):\n",
    "# [[1 2]\n",
    "#  [3 4]\n",
    "#  [5 6]\n",
    "#  [7 8]]\n",
    "\n",
    "# Nối theo chiều cột (axis=1):\n",
    "# [[1 2 5 6]\n",
    "#  [3 4 7 8]]"
   ]
  },
  {
   "cell_type": "markdown",
   "id": "1ddd91db",
   "metadata": {},
   "source": [
    "### Vstack"
   ]
  },
  {
   "cell_type": "code",
   "execution_count": 18,
   "id": "ea2cb4f1",
   "metadata": {},
   "outputs": [
    {
     "name": "stdout",
     "output_type": "stream",
     "text": [
      "[[1 2]\n",
      " [3 4]]\n"
     ]
    }
   ],
   "source": [
    "a = np.array([[1, 2]])\n",
    "b = np.array([[3, 4]])\n",
    "\n",
    "print(np.vstack((a, b)))\n",
    "# [[1 2]\n",
    "#  [3 4]]"
   ]
  },
  {
   "cell_type": "markdown",
   "id": "bb5ee48d",
   "metadata": {},
   "source": [
    "### Hstack"
   ]
  },
  {
   "cell_type": "code",
   "execution_count": 19,
   "id": "30774bc7",
   "metadata": {},
   "outputs": [
    {
     "name": "stdout",
     "output_type": "stream",
     "text": [
      "[[1 3]\n",
      " [2 4]]\n"
     ]
    }
   ],
   "source": [
    "a = np.array([[1], [2]])\n",
    "b = np.array([[3], [4]])\n",
    "\n",
    "print(np.hstack((a, b)))\n",
    "# [[1 3]\n",
    "#  [2 4]]"
   ]
  },
  {
   "cell_type": "markdown",
   "id": "54e30c7b",
   "metadata": {},
   "source": [
    "### Stack"
   ]
  },
  {
   "cell_type": "code",
   "execution_count": 20,
   "id": "75b89f8d",
   "metadata": {},
   "outputs": [
    {
     "name": "stdout",
     "output_type": "stream",
     "text": [
      "[[1 2 3]\n",
      " [4 5 6]]\n",
      "[[1 4]\n",
      " [2 5]\n",
      " [3 6]]\n"
     ]
    }
   ],
   "source": [
    "a = np.array([1, 2, 3])\n",
    "b = np.array([4, 5, 6])\n",
    "\n",
    "print(np.stack((a, b), axis=0))  # thêm chiều mới theo hàng\n",
    "print(np.stack((a, b), axis=1))  # thêm chiều mới theo cột\n",
    "# [[1 2 3]\n",
    "#  [4 5 6]]\n",
    "# [[1 4]\n",
    "#  [2 5]\n",
    "#  [3 6]]"
   ]
  },
  {
   "cell_type": "markdown",
   "id": "c0bc99c4",
   "metadata": {},
   "source": [
    "## Reshape"
   ]
  },
  {
   "cell_type": "code",
   "execution_count": 21,
   "id": "49539a9c",
   "metadata": {},
   "outputs": [
    {
     "name": "stdout",
     "output_type": "stream",
     "text": [
      "[[1 2 3]\n",
      " [4 5 6]]\n"
     ]
    }
   ],
   "source": [
    "import numpy as np\n",
    "\n",
    "arr = np.array([1, 2, 3, 4, 5, 6])\n",
    "\n",
    "reshaped = arr.reshape(2, 3)\n",
    "print(reshaped)\n",
    "# [[1 2 3]\n",
    "#  [4 5 6]]"
   ]
  },
  {
   "cell_type": "code",
   "execution_count": 22,
   "id": "8fdaa24e",
   "metadata": {},
   "outputs": [
    {
     "name": "stdout",
     "output_type": "stream",
     "text": [
      "[[1 2]\n",
      " [3 4]\n",
      " [5 6]]\n"
     ]
    }
   ],
   "source": [
    "\n",
    "arr = np.array([1, 2, 3, 4, 5, 6])\n",
    "\n",
    "reshaped = arr.reshape(-1, 2)  # Tự tính số hàng\n",
    "print(reshaped)\n",
    "# [[1 2]\n",
    "#  [3 4]\n",
    "#  [5 6]]"
   ]
  },
  {
   "cell_type": "markdown",
   "id": "2a11001f",
   "metadata": {},
   "source": [
    "### Tạo thêm chiều bằng np.newaxis()"
   ]
  },
  {
   "cell_type": "code",
   "execution_count": 23,
   "id": "45299fc1",
   "metadata": {},
   "outputs": [
    {
     "name": "stdout",
     "output_type": "stream",
     "text": [
      "(3,)\n",
      "(3, 1)\n",
      "(1, 3)\n"
     ]
    }
   ],
   "source": [
    "arr = np.array([1, 2, 3])\n",
    "print(arr.shape)         # (3,)\n",
    "\n",
    "arr_col = arr[:, np.newaxis]\n",
    "print(arr_col.shape)     # (3, 1)\n",
    "\n",
    "arr_row = arr[np.newaxis, :]\n",
    "print(arr_row.shape)     # (1, 3)"
   ]
  },
  {
   "cell_type": "markdown",
   "id": "d855c359",
   "metadata": {},
   "source": [
    "### Tạo chiều bằng np.expand_dims(arr, axis = )"
   ]
  },
  {
   "cell_type": "code",
   "execution_count": 24,
   "id": "e2b41e1e",
   "metadata": {},
   "outputs": [
    {
     "name": "stdout",
     "output_type": "stream",
     "text": [
      "Thêm chiều dọc:(1, 3)\n",
      "[[1 2 3]]\n",
      "(3, 1)\n",
      "Thêm chiều dọc:(3, 1)\n",
      "[[1]\n",
      " [2]\n",
      " [3]]\n"
     ]
    }
   ],
   "source": [
    "arr = np.array([1, 2, 3])\n",
    "\n",
    "expanded_arr = np.expand_dims(arr, axis=0)\n",
    "print(f'Thêm chiều dọc:{expanded_arr.shape}')  # (1, 3) # thêm chiều trước trục 0 (thêm chiều dọc, tức là thêm hàng bao bọc):\n",
    "print(expanded_arr)\n",
    "\n",
    "expanded2 = np.expand_dims(arr, axis=1)\n",
    "print(expanded2.shape)  # (3, 1)\n",
    "print(f'Thêm chiều dọc:{expanded2.shape}')  # (3,1) => thêm chiều sau trục 0 (thêm chiều cột, tức là biến vector hàng thành vector cột)\n",
    "print(expanded2)\n"
   ]
  },
  {
   "cell_type": "markdown",
   "id": "ff63898d",
   "metadata": {},
   "source": [
    "### Flatten vs ravel()"
   ]
  },
  {
   "cell_type": "code",
   "execution_count": 25,
   "id": "7643c72e",
   "metadata": {},
   "outputs": [
    {
     "name": "stdout",
     "output_type": "stream",
     "text": [
      "[1 2 3 4 5 6]\n",
      "[1 2 3 4 5 6]\n"
     ]
    }
   ],
   "source": [
    "arr = np.array([[1, 2, 3], [4, 5, 6]])\n",
    "\n",
    "print(arr.flatten())  # [1 2 3 4 5 6]\n",
    "print(arr.ravel())    # [1 2 3 4 5 6]\n"
   ]
  },
  {
   "cell_type": "markdown",
   "id": "e3da0992",
   "metadata": {},
   "source": [
    "### Lọc có điều kiện với np.where(condition, x, y)"
   ]
  },
  {
   "cell_type": "code",
   "execution_count": 26,
   "id": "53c62fdd",
   "metadata": {},
   "outputs": [
    {
     "name": "stdout",
     "output_type": "stream",
     "text": [
      "(array([2, 3, 4]),)\n",
      "[30 40 50]\n"
     ]
    }
   ],
   "source": [
    "import numpy as np\n",
    "\n",
    "arr = np.array([10, 20, 30, 40, 50])\n",
    "idx = np.where(arr > 25) #Nếu chỉ truyền condition, sẽ trả về index.\n",
    "print(idx) #(array([2, 3, 4]),)\n",
    "print(arr[idx]) #[30 40 50]\n"
   ]
  },
  {
   "cell_type": "markdown",
   "id": "ba09ddb9",
   "metadata": {},
   "source": [
    "### Lọc chỉ số của phần tử min/ max"
   ]
  },
  {
   "cell_type": "code",
   "execution_count": 27,
   "id": "1795a65c",
   "metadata": {},
   "outputs": [
    {
     "name": "stdout",
     "output_type": "stream",
     "text": [
      "Chỉ số max: 3\n",
      "Chỉ số min: 2\n"
     ]
    }
   ],
   "source": [
    "arr = np.array([3, 7, 2, 9, 5])\n",
    "\n",
    "print(\"Chỉ số max:\", np.argmax(arr))  # 3\n",
    "print(\"Chỉ số min:\", np.argmin(arr))  # 2\n"
   ]
  },
  {
   "cell_type": "markdown",
   "id": "5540f3a1",
   "metadata": {},
   "source": [
    "### Sắp xếp mảng"
   ]
  },
  {
   "cell_type": "code",
   "execution_count": 28,
   "id": "4ff94a39",
   "metadata": {},
   "outputs": [
    {
     "name": "stdout",
     "output_type": "stream",
     "text": [
      "[[2 5 8]\n",
      " [1 4 9]]\n"
     ]
    }
   ],
   "source": [
    "arr = np.array([[8, 2, 5], [4, 9, 1]])\n",
    "sorted_arr = np.sort(arr)\n",
    "print(sorted_arr)\n",
    "# [[2 5 8]\n",
    "#  [1 4 9]]"
   ]
  },
  {
   "cell_type": "code",
   "execution_count": 29,
   "id": "53dcb297",
   "metadata": {},
   "outputs": [
    {
     "name": "stdout",
     "output_type": "stream",
     "text": [
      "Chỉ số sau sắp xếp: [1 2 0]\n",
      "Sắp xếp gián tiếp: [10 20 30]\n"
     ]
    }
   ],
   "source": [
    "arr = np.array([30, 10, 20])\n",
    "idx = np.argsort(arr)\n",
    "print(\"Chỉ số sau sắp xếp:\", idx)\n",
    "print(\"Sắp xếp gián tiếp:\", arr[idx])\n",
    "# Chỉ số sau sắp xếp: [1 2 0]\n",
    "# Sắp xếp gián tiếp: [10 20 30]"
   ]
  },
  {
   "cell_type": "code",
   "execution_count": 30,
   "id": "ce103e33",
   "metadata": {},
   "outputs": [
    {
     "name": "stdout",
     "output_type": "stream",
     "text": [
      "[[2 5 8]\n",
      " [1 4 9]]\n",
      "[[1 4 9]\n",
      " [2 5 8]]\n"
     ]
    }
   ],
   "source": [
    "arr = np.array([[8, 2, 5],[1,9,4]])\n",
    "sorted_arr = np.sort(arr)\n",
    "print(sorted_arr)\n",
    "# [[2 5 8]\n",
    "#  [1 4 9]]\n",
    "print(sorted_arr[::-1])"
   ]
  },
  {
   "cell_type": "markdown",
   "id": "0e372e51",
   "metadata": {},
   "source": [
    "### Kiểm tra phần tử có trong mảng vs np.isin(phần tử, arr)"
   ]
  },
  {
   "cell_type": "code",
   "execution_count": 31,
   "id": "3e23e67b",
   "metadata": {},
   "outputs": [
    {
     "name": "stdout",
     "output_type": "stream",
     "text": [
      "True\n",
      "[ True False]\n"
     ]
    }
   ],
   "source": [
    "\n",
    "arr = np.array([1, 2, 3, 4, 5])\n",
    "print(3 in arr)  # True\n",
    "print(np.isin([2, 6], arr))  # [ True False ]\n"
   ]
  },
  {
   "cell_type": "markdown",
   "id": "78cbc844",
   "metadata": {},
   "source": [
    "### Các phép toán (element-wise)"
   ]
  },
  {
   "cell_type": "code",
   "execution_count": 32,
   "id": "1949f860",
   "metadata": {},
   "outputs": [
    {
     "name": "stdout",
     "output_type": "stream",
     "text": [
      "Cộng: [5 7 9]\n",
      "Trừ: [-3 -3 -3]\n",
      "Nhân: [ 4 10 18]\n",
      "Chia: [0.25 0.4  0.5 ]\n",
      "Lũy thừa: [1 4 9]\n"
     ]
    }
   ],
   "source": [
    "import numpy as np\n",
    "\n",
    "a = np.array([1, 2, 3])\n",
    "b = np.array([4, 5, 6])\n",
    "\n",
    "print(\"Cộng:\", a + b)\n",
    "print(\"Trừ:\", a - b)\n",
    "print(\"Nhân:\", a * b)\n",
    "print(\"Chia:\", a / b)\n",
    "print(\"Lũy thừa:\", a ** 2)\n",
    "# Cộng: [5 7 9]\n",
    "# Trừ: [-3 -3 -3]\n",
    "# Nhân: [ 4 10 18]\n",
    "# Chia: [0.25 0.4  0.5 ]\n",
    "# Lũy thừa: [1 4 9]"
   ]
  },
  {
   "cell_type": "markdown",
   "id": "fd7ecf22",
   "metadata": {},
   "source": [
    "### Vector or matrix multification\n"
   ]
  },
  {
   "cell_type": "code",
   "execution_count": 33,
   "id": "31b6b535",
   "metadata": {},
   "outputs": [
    {
     "name": "stdout",
     "output_type": "stream",
     "text": [
      "[[19 22]\n",
      " [43 50]]\n",
      "[[19 22]\n",
      " [43 50]]\n"
     ]
    }
   ],
   "source": [
    "A = np.array([[1, 2], [3, 4]])\n",
    "B = np.array([[5, 6], [7, 8]])\n",
    "\n",
    "print(np.dot(A, B)) \n",
    "print(A@B)\n",
    "# [[19 22]\n",
    "#  [43 50]]\n",
    "# [[19 22]\n",
    "#  [43 50]]"
   ]
  },
  {
   "cell_type": "markdown",
   "id": "8ecc87d6",
   "metadata": {},
   "source": [
    "### Excercises for practice\n",
    "Following this file: module2/week1/M01W01-Reading_numpy_practice.pdf (page8)\n"
   ]
  },
  {
   "cell_type": "code",
   "execution_count": 34,
   "id": "c688dd4b",
   "metadata": {},
   "outputs": [
    {
     "name": "stdout",
     "output_type": "stream",
     "text": [
      "8\n"
     ]
    }
   ],
   "source": [
    "# tính tổng số chẵn trong list\n",
    "lst= [6,5,7,1,9,2]\n",
    "print(sum([x for x in lst if x%2==0]))"
   ]
  },
  {
   "cell_type": "code",
   "execution_count": 36,
   "id": "aa8baed2",
   "metadata": {},
   "outputs": [
    {
     "name": "stdout",
     "output_type": "stream",
     "text": [
      "[6 5 7 1 9 2]\n",
      "<class 'numpy.ndarray'>\n"
     ]
    },
    {
     "data": {
      "text/plain": [
       "np.int64(8)"
      ]
     },
     "execution_count": 36,
     "metadata": {},
     "output_type": "execute_result"
    }
   ],
   "source": [
    "# tổng số chẵn trong array numpy\n",
    "arr = np.array(lst)\n",
    "print(arr)\n",
    "print(type(arr))\n",
    "np.sum(arr[arr%2 ==0])"
   ]
  },
  {
   "cell_type": "code",
   "execution_count": 37,
   "id": "02cd2591",
   "metadata": {},
   "outputs": [
    {
     "name": "stdout",
     "output_type": "stream",
     "text": [
      "[[11 22]\n",
      " [13 24]]\n"
     ]
    }
   ],
   "source": [
    "#cộng hai array không cùng shape> broadcasting trước => cộng sau\n",
    "a = np.array([[1, 2], [3, 4]])\n",
    "b = np.array([10, 20])  # shape (2,)\n",
    "\n",
    "print(a + b)\n",
    "# [[11 22]\n",
    "#  [13 24]]"
   ]
  },
  {
   "cell_type": "code",
   "execution_count": 38,
   "id": "5f8a17f6",
   "metadata": {},
   "outputs": [
    {
     "name": "stdout",
     "output_type": "stream",
     "text": [
      "[2 5 8]\n",
      "[8 5 2]\n"
     ]
    }
   ],
   "source": [
    "# sắp xếp mảng theo thứ tự tăng dần, giảm dần\n",
    "import numpy as np\n",
    "arr = np.array([8, 2, 5])\n",
    "sorted_arr = np.sort(arr)\n",
    "print(sorted_arr) #[2 5 8]\n",
    "print(sorted_arr[::-1]) #[8 5 2]\n"
   ]
  },
  {
   "cell_type": "code",
   "execution_count": 39,
   "id": "0fafb3c6",
   "metadata": {},
   "outputs": [
    {
     "name": "stdout",
     "output_type": "stream",
     "text": [
      "2.2.6\n"
     ]
    }
   ],
   "source": [
    "#Câu 1: in ra version of numpy\n",
    "print(np.version.version)"
   ]
  },
  {
   "cell_type": "code",
   "execution_count": 40,
   "id": "a09a815b",
   "metadata": {},
   "outputs": [
    {
     "name": "stdout",
     "output_type": "stream",
     "text": [
      "[4 5 6 7 8 9]\n"
     ]
    }
   ],
   "source": [
    "# Câu 2: Tạo mảng một chiều từ 4 đến 9\n",
    "data = np.arange(4,10)\n",
    "print(data)"
   ]
  },
  {
   "cell_type": "code",
   "execution_count": 42,
   "id": "26488410",
   "metadata": {},
   "outputs": [
    {
     "name": "stdout",
     "output_type": "stream",
     "text": [
      "[[ True  True  True]\n",
      " [ True  True  True]\n",
      " [ True  True  True]]\n",
      "(3, 3)\n",
      "bool\n"
     ]
    }
   ],
   "source": [
    "# Câu 3: Tạo một mảng boolean 3x3 với tất cả giá trị là True\n",
    "data = np.full((3,3), True)\n",
    "print(data)\n",
    "print(data.shape)\n",
    "print(data.dtype)"
   ]
  },
  {
   "cell_type": "code",
   "execution_count": 43,
   "id": "227543e6",
   "metadata": {},
   "outputs": [
    {
     "name": "stdout",
     "output_type": "stream",
     "text": [
      "[0 1 2 3 4 5 6 7 8 9]\n",
      "[1 3 5 7 9]\n"
     ]
    }
   ],
   "source": [
    "# Câu 4: Lấy những phần tử lẻ\n",
    "data = np.arange(0 , 10)\n",
    "print(data)\n",
    "print(data[data%2==1])"
   ]
  },
  {
   "cell_type": "code",
   "execution_count": 44,
   "id": "8ec0205e",
   "metadata": {},
   "outputs": [
    {
     "name": "stdout",
     "output_type": "stream",
     "text": [
      "[0 1 2 3 4 5 6 7 8 9]\n",
      "[ 0 -1  2 -1  4 -1  6 -1  8 -1]\n"
     ]
    }
   ],
   "source": [
    "#Câu 5: Thay thế phần tử bằng -1\n",
    "data = np.arange(0 , 10) #[0 1 2 3 4 5 6 7 8 9]\n",
    "print(data)\n",
    "new = np.where(data%2==1, -1, data) #[ 0 -1  2 -1  4 -1  6 -1  8 -1]\n",
    "print(new)"
   ]
  },
  {
   "cell_type": "code",
   "execution_count": 46,
   "id": "e0f85fe4",
   "metadata": {},
   "outputs": [
    {
     "name": "stdout",
     "output_type": "stream",
     "text": [
      "[0 1 2 3 4 5 6 7 8 9]\n",
      "[[0 1 2 3 4]\n",
      " [5 6 7 8 9]]\n",
      "(2, 5)\n",
      "10\n"
     ]
    }
   ],
   "source": [
    "#Câu 6: Chuyển định dạng (shape) của một ndarray. Chuyển mảng một chiều thành mảng hai chiều dùng reshape \n",
    "#Chú ý tích của shape(ndarray) = size(1D array)\n",
    "data = np.arange(0,10)\n",
    "new = data.reshape((2,5))\n",
    "print(data)\n",
    "print(new)\n",
    "print(new.shape)\n",
    "print(data.size)\n",
    "# [0 1 2 3 4 5 6 7 8 9]\n",
    "# [[0 1 2 3 4]\n",
    "#  [5 6 7 8 9]]\n",
    "# (2, 5)\n",
    "# 10"
   ]
  },
  {
   "cell_type": "code",
   "execution_count": 49,
   "id": "30f6e6fe",
   "metadata": {},
   "outputs": [
    {
     "name": "stdout",
     "output_type": "stream",
     "text": [
      "[[0 1 2 3 4]\n",
      " [5 6 7 8 9]]\n",
      "[[1 1 1 1 1]\n",
      " [1 1 1 1 1]]\n",
      "[[ True  True  True  True  True]\n",
      " [ True  True  True  True  True]\n",
      " [ True  True  True  True  True]\n",
      " [ True  True  True  True  True]]\n",
      "Stacked array:[[0 1 2 3 4]\n",
      " [5 6 7 8 9]\n",
      " [1 1 1 1 1]\n",
      " [1 1 1 1 1]]\n"
     ]
    }
   ],
   "source": [
    "# Câu 7: Xếp chồng 2 mảng theo chiều dọc => vertical => vstack\n",
    "data1 = np.arange(0,10).reshape((2,5))\n",
    "data2 = np.full(10,1).reshape((2,5))\n",
    "print(data1)\n",
    "print(data2)\n",
    "stacked = np.vstack((data1,data2))\n",
    "concatenated = np.concatenate((data1, data2), axis =0)\n",
    "print(stacked == concatenated)\n",
    "\n",
    "print(f'Stacked array:{stacked}')\n",
    "# [[0 1 2 3 4]\n",
    "#  [5 6 7 8 9]]\n",
    "# [[1 1 1 1 1]\n",
    "#  [1 1 1 1 1]]\n",
    "# Stacked array:[[0 1 2 3 4]\n",
    "#  [5 6 7 8 9]\n",
    "#  [1 1 1 1 1]\n",
    "#  [1 1 1 1 1]]"
   ]
  },
  {
   "cell_type": "code",
   "execution_count": 51,
   "id": "db43becc",
   "metadata": {},
   "outputs": [
    {
     "name": "stdout",
     "output_type": "stream",
     "text": [
      "[[0 1 2 3 4]\n",
      " [5 6 7 8 9]]\n",
      "[[1 1 1 1 1]\n",
      " [1 1 1 1 1]]\n",
      "[[ True  True  True  True  True  True  True  True  True  True]\n",
      " [ True  True  True  True  True  True  True  True  True  True]]\n",
      "Stacked array:\n",
      "[[0 1 2 3 4 1 1 1 1 1]\n",
      " [5 6 7 8 9 1 1 1 1 1]]\n"
     ]
    }
   ],
   "source": [
    "# Câu 8: Xếp chồng 2 mảng theo chiều ngang => hstack\n",
    "data1 = np.arange(0,10).reshape((2,5))\n",
    "data2 = np.full(10,1).reshape((2,5))\n",
    "print(data1)\n",
    "print(data2)\n",
    "stacked = np.hstack((data1,data2))\n",
    "concatenated = np.concatenate((data1, data2), axis =1)\n",
    "print(stacked == concatenated)\n",
    "\n",
    "print(f'Stacked array:\\n{stacked}')\n",
    "# [[0 1 2 3 4]\n",
    "#  [5 6 7 8 9]]\n",
    "# [[1 1 1 1 1]\n",
    "#  [1 1 1 1 1]]\n",
    "# Stacked array:[[0 1 2 3 4]\n",
    "#  [5 6 7 8 9]\n",
    "#  [1 1 1 1 1]\n",
    "#  [1 1 1 1 1]]"
   ]
  },
  {
   "cell_type": "code",
   "execution_count": 52,
   "id": "2a78e4f2",
   "metadata": {},
   "outputs": [
    {
     "name": "stdout",
     "output_type": "stream",
     "text": [
      "[1 1 2 2 3 3]\n"
     ]
    }
   ],
   "source": [
    "#Câu 9: Lặp data với repeat() và tile()\n",
    "import numpy as np\n",
    "\n",
    "arr = np.array([1, 2, 3])\n",
    "repeated = np.repeat(arr, 2)\n",
    "print(repeated)\n",
    "# [1 1 2 2 3 3]\n"
   ]
  },
  {
   "cell_type": "code",
   "execution_count": 53,
   "id": "2bd2ddd7",
   "metadata": {},
   "outputs": [
    {
     "name": "stdout",
     "output_type": "stream",
     "text": [
      "[1 5 5 7 7 7]\n"
     ]
    }
   ],
   "source": [
    "arr = np.array([1,5,7])\n",
    "repeated = np.repeat(arr, [1, 2, 3])\n",
    "print(repeated)\n",
    "# [1 5 5 7 7 7]"
   ]
  },
  {
   "cell_type": "code",
   "execution_count": 54,
   "id": "901a95e7",
   "metadata": {},
   "outputs": [
    {
     "name": "stdout",
     "output_type": "stream",
     "text": [
      "[[1 2]\n",
      " [1 2]\n",
      " [3 4]\n",
      " [3 4]]\n"
     ]
    }
   ],
   "source": [
    "arr2d = np.array([[1, 2], [3, 4]])\n",
    "print(np.repeat(arr2d, 2, axis=0))\n",
    "# [[1 2]\n",
    "#  [1 2]\n",
    "#  [3 4]\n",
    "#  [3 4]]"
   ]
  },
  {
   "cell_type": "code",
   "execution_count": 55,
   "id": "25f25ae0",
   "metadata": {},
   "outputs": [
    {
     "name": "stdout",
     "output_type": "stream",
     "text": [
      "[1 2 3 1 2 3]\n"
     ]
    }
   ],
   "source": [
    "arr = np.array([1, 2, 3])\n",
    "tiled = np.tile(arr, 2)\n",
    "print(tiled)\n",
    "# [1 2 3 1 2 3]"
   ]
  },
  {
   "cell_type": "code",
   "execution_count": 57,
   "id": "2cc21aa2",
   "metadata": {},
   "outputs": [
    {
     "name": "stdout",
     "output_type": "stream",
     "text": [
      "[[1 2 1 2 1 2]\n",
      " [3 4 3 4 3 4]\n",
      " [1 2 1 2 1 2]\n",
      " [3 4 3 4 3 4]]\n"
     ]
    }
   ],
   "source": [
    "arr2d = np.array([[1, 2], [3, 4]])\n",
    "tiled = np.tile(arr2d, (2, 3))  # (rows, columns)\n",
    "print(tiled)\n",
    "# [[1 2 1 2 1 2]\n",
    "#  [3 4 3 4 3 4]\n",
    "#  [1 2 1 2 1 2]\n",
    "#  [3 4 3 4 3 4]]\n",
    "\n"
   ]
  },
  {
   "cell_type": "code",
   "execution_count": 59,
   "id": "20605cb7",
   "metadata": {},
   "outputs": [
    {
     "name": "stdout",
     "output_type": "stream",
     "text": [
      "[1 2]\n"
     ]
    }
   ],
   "source": [
    "# Câu 10: Lấy phần tử chung của 2 mảng dùng intersect1d()\n",
    "data1 = np.array([1,2,3,3])\n",
    "data2 = np.array([7,2,1,8])\n",
    "\n",
    "intersect_ = np.intersect1d(data1, data2)\n",
    "print(intersect_) #[1 2]\n"
   ]
  },
  {
   "cell_type": "code",
   "execution_count": 60,
   "id": "5571b2d0",
   "metadata": {},
   "outputs": [
    {
     "name": "stdout",
     "output_type": "stream",
     "text": [
      "[2 3 4]\n"
     ]
    }
   ],
   "source": [
    "# Câu 11: Xoá phần tử từ một mảng mà tồn tại trong một mảng khác\n",
    "data1 = np.arange(1,6)\n",
    "data2 = np.array([1,5,9])\n",
    "out = np.setdiff1d(data1, data2)\n",
    "print(out) #[2 3 4]"
   ]
  },
  {
   "cell_type": "code",
   "execution_count": 68,
   "id": "77670253",
   "metadata": {},
   "outputs": [
    {
     "name": "stdout",
     "output_type": "stream",
     "text": [
      "[1 2 3 4 5 6]\n",
      "[1 1 1 6 6 6]\n",
      "[0 5]\n"
     ]
    }
   ],
   "source": [
    "# Câu 12: Lấy tất cả vị trí nơi giá trị các phần tử của hai mảng giống nhau\n",
    "data1 = np.arange(1,7)\n",
    "data2 = np.array([1,6]).repeat(3)\n",
    "print(data1)\n",
    "print(data2)\n",
    "match = np.where(data1 == data2)\n",
    "print(match[0])"
   ]
  },
  {
   "cell_type": "code",
   "execution_count": 78,
   "id": "c95d5f70",
   "metadata": {},
   "outputs": [
    {
     "name": "stdout",
     "output_type": "stream",
     "text": [
      "(array([1, 3, 4]),)\n",
      "[8 9 7]\n"
     ]
    }
   ],
   "source": [
    "# Câu 13:  Lấy tất cả các giá trị trong một phạm vi cho trước\n",
    "data = np.array([1,8,3,9,7,6])\n",
    "index = np.where(data>=7)\n",
    "print(index)\n",
    "print(data[index])"
   ]
  },
  {
   "cell_type": "code",
   "execution_count": 89,
   "id": "5a577653",
   "metadata": {},
   "outputs": [
    {
     "name": "stdout",
     "output_type": "stream",
     "text": [
      "[5 7 8 2 8]\n"
     ]
    }
   ],
   "source": [
    "import numpy as np\n",
    "\n",
    "# Hàm so sánh\n",
    "def get_max(x, y):\n",
    "    return x if x >= y else y\n",
    "\n",
    "# Hai mảng dữ liệu\n",
    "data1 = np.array([5, 3, 8, 2, 7])\n",
    "data2 = np.array([2, 7, 3, 1, 8])\n",
    "\n",
    "# Vector hóa hàm\n",
    "pair_max = np.vectorize(get_max)\n",
    "\n",
    "# Áp dụng lên mảng\n",
    "out = pair_max(data1, data2)\n",
    "print(out)  # [5 7 8 2 8]\n"
   ]
  },
  {
   "cell_type": "code",
   "execution_count": null,
   "id": "632079d5",
   "metadata": {},
   "outputs": [
    {
     "name": "stdout",
     "output_type": "stream",
     "text": [
      "[[0 1 2]\n",
      " [3 4 5]\n",
      " [6 7 8]]\n",
      "[[1 0 2]\n",
      " [4 3 5]\n",
      " [7 6 8]]\n"
     ]
    }
   ],
   "source": [
    "#Câu 15: Hoán đổi các cột trong mảng hai chiều\n",
    "\n",
    "data = np.arange(9).reshape((3,3))\n",
    "print(data)\n",
    "\n",
    "print(data[:,[1, 0, 2]]) #lấy tất cả các hàng, hoá đổi vị trí cột \n",
    "\n"
   ]
  },
  {
   "cell_type": "code",
   "execution_count": 94,
   "id": "cb8bd8d7",
   "metadata": {},
   "outputs": [
    {
     "name": "stdout",
     "output_type": "stream",
     "text": [
      "[[0 1 2]\n",
      " [3 4 5]\n",
      " [6 7 8]]\n",
      "[[3 4 5]\n",
      " [0 1 2]\n",
      " [6 7 8]]\n"
     ]
    }
   ],
   "source": [
    "# Câu 16: Hoán đổi các dòng trong mảng hai chiều\n",
    "\n",
    "data = np.arange(9).reshape((3,3))\n",
    "print(data)\n",
    "\n",
    "print(data[[1, 0, 2], :]) #hoán đổi vị trí dòng, lấy tất cả các cột"
   ]
  },
  {
   "cell_type": "code",
   "execution_count": null,
   "id": "0762c7fd",
   "metadata": {},
   "outputs": [
    {
     "name": "stdout",
     "output_type": "stream",
     "text": [
      "[[0 1 2]\n",
      " [3 4 5]\n",
      " [6 7 8]]\n",
      "[[6 7 8]\n",
      " [3 4 5]\n",
      " [0 1 2]]\n"
     ]
    }
   ],
   "source": [
    "# Câu 17: Đảo ngược các phần tử của các cột trong mảng hai chiều\n",
    "data = np.arange(9).reshape((3,3))\n",
    "print(data)\n",
    "\n",
    "print(data[: : -1, :]) #dùng ::-1 để đảo ngược\n"
   ]
  },
  {
   "cell_type": "code",
   "execution_count": 100,
   "id": "536f234c",
   "metadata": {},
   "outputs": [
    {
     "name": "stdout",
     "output_type": "stream",
     "text": [
      "[[0 1 2]\n",
      " [3 4 5]\n",
      " [6 7 8]]\n",
      "[[2 1 0]\n",
      " [5 4 3]\n",
      " [8 7 6]]\n"
     ]
    }
   ],
   "source": [
    "# Câu 18: Đảo ngược các phần tử của các hàng trong mảng hai chiều\n",
    "data = np.arange(9).reshape((3,3))\n",
    "print(data)\n",
    "\n",
    "print(data[: , :: -1]) #dùng ::-1 để đảo ngược"
   ]
  },
  {
   "cell_type": "code",
   "execution_count": 103,
   "id": "49de93ee",
   "metadata": {},
   "outputs": [
    {
     "name": "stdout",
     "output_type": "stream",
     "text": [
      "[[0.37331209 0.59041303 0.05784332]\n",
      " [0.64756843 0.93062816 0.88758228]]\n",
      "[[5.53253903 5.70461941 6.56405571]\n",
      " [8.10791685 8.48004532 5.12745401]]\n"
     ]
    }
   ],
   "source": [
    "# Câu 19: Tạo mảng hai chiều chứa số ngẫu nhiên (kiểu số lẻ)\n",
    "data= np.random.random((2,3)) #gía trị random from 0 to 1\n",
    "print(data)\n",
    "\n",
    "data1= np.random.uniform(5,10,size = (2,3)) #gía trị random from 5 to 10\n",
    "print(data1)"
   ]
  },
  {
   "cell_type": "markdown",
   "id": "213eeab0",
   "metadata": {},
   "source": [
    "### Excercises about vector\n",
    "\n",
    "Following this file: module2/week1/M01W01-Reading_numpy_practice.pdf (page19)"
   ]
  },
  {
   "cell_type": "code",
   "execution_count": 105,
   "id": "c0058752",
   "metadata": {},
   "outputs": [
    {
     "name": "stdout",
     "output_type": "stream",
     "text": [
      "5.0\n"
     ]
    }
   ],
   "source": [
    "#Câu 1: Tính độ dài của một vector\n",
    "u = np.array([1,2,4,2])\n",
    "vec_mag = np.linalg.norm(u)\n",
    "print(vec_mag)"
   ]
  },
  {
   "cell_type": "code",
   "execution_count": 112,
   "id": "e7250afb",
   "metadata": {},
   "outputs": [
    {
     "name": "stdout",
     "output_type": "stream",
     "text": [
      "Addition of 2 vectors:[ 6  8 10 12]\n",
      "Subtraction of 2 vectors:[-4 -4 -4 -4]\n",
      "Hadamard of 2 vectors:[ 5 12 21 32]\n",
      "Chia of 2 vectors:[0.2        0.33333333 0.42857143 0.5       ]\n"
     ]
    }
   ],
   "source": [
    "# Câu 2. Phép cộng và trừ giữa hai vector\n",
    "data_x = np.arange(1,5)\n",
    "data_y = np.arange(5, 9)\n",
    "\n",
    "print(f'Addition of 2 vectors:{data_x+ data_y}')\n",
    "print(f'Subtraction of 2 vectors:{data_x - data_y}')\n",
    "print(f'Hadamard of 2 vectors:{data_x * data_y}')\n",
    "print(f'Chia of 2 vectors:{data_x / data_y}')"
   ]
  },
  {
   "cell_type": "code",
   "execution_count": 114,
   "id": "28e8f70d",
   "metadata": {},
   "outputs": [
    {
     "name": "stdout",
     "output_type": "stream",
     "text": [
      "Dot product: 70\n"
     ]
    }
   ],
   "source": [
    "#Tính tích vô hướng (dot product) giữa hai vector\n",
    "data_x = np.arange(1,5)\n",
    "data_y = np.arange(5, 9)\n",
    "print(f'Dot product: {data_x.dot(data_y)}')"
   ]
  },
  {
   "cell_type": "code",
   "execution_count": 128,
   "id": "3ad0ed8d",
   "metadata": {},
   "outputs": [
    {
     "name": "stdout",
     "output_type": "stream",
     "text": [
      "[[1 2 3]\n",
      " [4 5 6]]\n",
      "\n",
      "\n",
      "[[ 5  6  7]\n",
      " [ 8  9 10]]\n",
      "Cộng:\n",
      " [[ 6  8 10]\n",
      " [12 14 16]]\n",
      "Trừ:\n",
      " [[-4 -4 -4]\n",
      " [-4 -4 -4]]\n",
      "Nhân:\n",
      " [[ 5 12 21]\n",
      " [32 45 60]]\n",
      "Chia:\n",
      " [[0.2        0.33333333 0.42857143]\n",
      " [0.5        0.55555556 0.6       ]]\n",
      "Transpose:\n",
      " [[1 4]\n",
      " [2 5]\n",
      " [3 6]]\n"
     ]
    }
   ],
   "source": [
    "# Các phép tính cơ bản trên ma trận\n",
    "import numpy as np\n",
    "a = np.arange(1,7).reshape((2,3))\n",
    "b = np.arange(5, 11).reshape((2,3))\n",
    "print(a)\n",
    "print('\\n')\n",
    "print(b)\n",
    "\n",
    "print(\"Cộng:\\n\", a + b)\n",
    "print(\"Trừ:\\n\", a - b)\n",
    "print(\"Nhân:\\n\", a * b)\n",
    "print(\"Chia:\\n\", a / b)\n",
    "print(\"Transpose:\\n\", a.T)\n"
   ]
  },
  {
   "cell_type": "code",
   "execution_count": null,
   "id": "8db0d900",
   "metadata": {},
   "outputs": [
    {
     "name": "stdout",
     "output_type": "stream",
     "text": [
      "[1 2 3]\n",
      "False\n",
      "4394550448\n",
      "4406832912\n"
     ]
    }
   ],
   "source": [
    "arr = np.array([1, 2, 3])\n",
    "new_arr = np.sort(arr)\n",
    "print(new_arr)  # [1 2 3]\n",
    "print(arr is new_arr) # False ⇒ mảng mới\n",
    "print(id(arr))\n",
    "print(id(new_arr))  \n",
    "#4394550448\n",
    "#4406832912"
   ]
  },
  {
   "cell_type": "code",
   "execution_count": 131,
   "id": "e0967afd",
   "metadata": {},
   "outputs": [
    {
     "name": "stdout",
     "output_type": "stream",
     "text": [
      "False\n"
     ]
    }
   ],
   "source": [
    "arr = np.array([1, 2, 3])\n",
    "# arr.append(4)  ❌ Lỗi: không có method này\n",
    "# Giải pháp: tạo mảng mới\n",
    "arr2 = np.append(arr, 4)\n",
    "print(id(arr)==id(arr2))"
   ]
  },
  {
   "cell_type": "code",
   "execution_count": 132,
   "id": "ffdc5c1a",
   "metadata": {},
   "outputs": [
    {
     "name": "stdout",
     "output_type": "stream",
     "text": [
      "np.sort(arr): [1 2 3]\n",
      "arr sau np.sort: [3 1 2]\n",
      "arr sau arr.sort(): [1 2 3]\n"
     ]
    }
   ],
   "source": [
    "import numpy as np\n",
    "\n",
    "arr = np.array([3, 1, 2])\n",
    "\n",
    "# Sử dụng np.sort (trả về mảng mới)\n",
    "sorted_arr = np.sort(arr)\n",
    "print(\"np.sort(arr):\", sorted_arr)  # [1 2 3]\n",
    "print(\"arr sau np.sort:\", arr)      # [3 1 2] (không đổi)\n",
    "\n",
    "# Sử dụng arr.sort() (in-place)\n",
    "arr.sort()\n",
    "print(\"arr sau arr.sort():\", arr)   # [1 2 3]"
   ]
  },
  {
   "cell_type": "code",
   "execution_count": null,
   "id": "ecac7e8f",
   "metadata": {},
   "outputs": [],
   "source": []
  }
 ],
 "metadata": {
  "kernelspec": {
   "display_name": "myenv",
   "language": "python",
   "name": "python3"
  },
  "language_info": {
   "codemirror_mode": {
    "name": "ipython",
    "version": 3
   },
   "file_extension": ".py",
   "mimetype": "text/x-python",
   "name": "python",
   "nbconvert_exporter": "python",
   "pygments_lexer": "ipython3",
   "version": "3.10.16"
  }
 },
 "nbformat": 4,
 "nbformat_minor": 5
}
