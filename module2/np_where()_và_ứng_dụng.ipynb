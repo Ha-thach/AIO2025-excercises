{
  "cells": [
    {
      "cell_type": "markdown",
      "metadata": {
        "id": "FkNH7sZXsvM4"
      },
      "source": [
        "# **Method `np.where()` và ứng dụng**\n",
        "\n",
        "## **Mục 1: Giới thiệu - Tại sao `np.where()` lại quan trọng?**\n",
        "\n",
        "Trong hành trình làm việc với dữ liệu, bạn sẽ liên tục phải đối mặt với một nhiệm vụ cốt lõi: **thay đổi một tập hợp con của dữ liệu dựa trên một điều kiện cụ thể**.\n",
        "\n",
        "Hãy xem xét một kịch bản rất thực tế. Bạn là một nhà khoa học dữ liệu đang phân tích dữ liệu từ hàng triệu cảm biến trong một nhà máy thông minh. Dữ liệu của bạn trông như thế này:"
      ]
    },
    {
      "cell_type": "code",
      "execution_count": null,
      "metadata": {},
      "outputs": [],
      "source": []
    },
    {
      "cell_type": "code",
      "execution_count": 8,
      "metadata": {
        "id": "KDjcdARIsvM6"
      },
      "outputs": [],
      "source": [
        "import numpy as np\n",
        "\n",
        "# Dữ liệu nhiệt độ (có thể có hàng triệu điểm)\n",
        "sensor_readings = np.array([25.5, 26.1, -999.0, 27.2, 24.9, -999.0, 28.1])"
      ]
    },
    {
      "cell_type": "markdown",
      "metadata": {
        "id": "KKM9WG62svM6"
      },
      "source": [
        "Bạn nhận thấy ngay lập tức rằng giá trị `-999.0` là một mã lỗi từ cảm biến, không phải là một nhiệt độ thực tế. Để phân tích chính xác, bạn cần phải thay thế tất cả các giá trị lỗi này bằng một giá trị hợp lệ, ví dụ như giá trị trung bình của các số đo đúng.\n",
        "\n",
        "### **Cách tiếp cận thông thường (dùng vòng lặp)**\n",
        "\n",
        "Nếu chỉ dùng Python cơ bản, bạn có thể nghĩ đến việc dùng một vòng lặp `for`. Cách làm này có hai nhược điểm lớn:\n",
        "\n",
        "1.  **Dài dòng:** Bạn cần nhiều dòng code để thực hiện một logic đơn giản.\n",
        "2.  **Rất chậm 🐢:** Vòng lặp `for` trong Python xử lý từng phần tử một. Với hàng triệu điểm dữ liệu, cách này sẽ cực kỳ tốn thời gian và tài nguyên máy tính.\n",
        "\n",
        "### **Giải pháp từ NumPy: Sức mạnh của `np.where()`**\n",
        "\n",
        "Đây chính là lúc `np.where()` tỏa sáng. Nó cho phép bạn thực hiện chính xác logic trên chỉ bằng **một dòng code duy nhất**:"
      ]
    },
    {
      "cell_type": "code",
      "execution_count": 10,
      "metadata": {},
      "outputs": [
        {
          "name": "stdout",
          "output_type": "stream",
          "text": [
            "[25.5 26.1 26.  27.2 24.9 26.  28.1]\n"
          ]
        }
      ],
      "source": [
        "# giả sử ta biết nhiệt độ trung bình lÀ 26 \n",
        "cleaned_sensor_reading = np.where(sensor_readings == -999, 26.0, sensor_readings)\n",
        "print(cleaned_sensor_reading)"
      ]
    },
    {
      "cell_type": "markdown",
      "metadata": {
        "id": "yov6lwkgsvM7"
      },
      "source": [
        "### **Vậy, tại sao `np.where()` lại quan trọng?**\n",
        "\n",
        "1.  **Tốc độ vượt trội 🚀:** `np.where()` được tối ưu hóa ở cấp độ thấp (viết bằng C). Nó thực hiện phép toán trên toàn bộ mảng cùng lúc (**vector hóa**), loại bỏ hoàn toàn chi phí của vòng lặp Python.\n",
        "2.  **Code ngắn gọn, dễ đọc ✨:** Logic của bạn được thể hiện rõ ràng trong một dòng lệnh duy nhất.\n",
        "3.  **Cực kỳ linh hoạt:** `np.where()` là công cụ nền tảng cho vô số tác vụ trong AI và Machine Learning, từ làm sạch dữ liệu, kỹ thuật đặc trưng cho đến xử lý kết quả của mô hình.\n",
        "\n",
        "-----\n",
        "\n",
        "## **Mục 2: Cú pháp và Hoạt động Cơ bản**\n",
        "\n",
        "Đây là phần nền tảng nhất, giúp bạn hiểu `np.where()` làm gì và cách sử dụng nó thông qua cú pháp phổ biến nhất.\n",
        "\n",
        "### **2.1. Lý thuyết: Công thức tổng quát**\n",
        "\n",
        "Cú pháp chính của `np.where()` bao gồm ba tham số đầu vào:\n",
        "\n",
        "`numpy.where(condition, x, y)`\n",
        "\n",
        "  * **`condition`**: Một biểu thức điều kiện (ví dụ: `data > 5`) trả về một mảng boolean (`True`/`False`).\n",
        "  * **`x`**: Giá trị được lấy nếu `condition` là `True`.\n",
        "  * **`y`**: Giá trị được lấy nếu `condition` là `False`.\n",
        "\n",
        "Hàm này trả về một **mảng NumPy mới** có cùng hình dạng với `condition`.\n",
        "\n",
        "-----\n",
        "\n",
        "### **2.2. Bài tập ứng dụng**\n",
        "\n",
        "#### **Bài tập 2.2.1: Chuẩn hóa Dữ liệu Âm**\n",
        "\n",
        "  * **Bối cảnh:** Trong tiền xử lý dữ liệu, các đặc trưng như \"số lượng tồn kho\" không thể âm. Ta cần chuẩn hóa các giá trị âm (do lỗi) về 0.\n",
        "  * **Nhiệm vụ:** Viết hàm `replace_negatives` thay thế tất cả các số âm trong mảng bằng 0.\n",
        "\n",
        "<!-- end list -->"
      ]
    },
    {
      "cell_type": "code",
      "execution_count": 12,
      "metadata": {
        "id": "o2eTrl5osvM7"
      },
      "outputs": [
        {
          "name": "stdout",
          "output_type": "stream",
          "text": [
            "✅ Tất cả test cases cho Bài 2.2.1 đã thành công!\n"
          ]
        }
      ],
      "source": [
        "def replace_negatives(data_array):\n",
        "  \"\"\"\n",
        "  Thay thế tất cả các giá trị âm trong data_array bằng 0.\n",
        "  \"\"\"\n",
        "  # TODO: Sử dụng np.where để thay thế các giá trị âm bằng 0.\n",
        "  return np.where(data_array < 0, 0, data_array)\n",
        "\n",
        "# ===== Test Cases =====\n",
        "# Test case 1: Mảng hỗn hợp\n",
        "test_1 = np.array([1, -5, 3, -10, 0])\n",
        "expected_1 = np.array([1, 0, 3, 0, 0])\n",
        "assert np.array_equal(replace_negatives(test_1), expected_1)\n",
        "\n",
        "# Test case 2: Toàn bộ là số âm\n",
        "test_2 = np.array([-1, -2, -3, -4, -5])\n",
        "expected_2 = np.array([0, 0, 0, 0, 0])\n",
        "assert np.array_equal(replace_negatives(test_2), expected_2)\n",
        "\n",
        "# Test case 3: Không có số âm\n",
        "test_3 = np.array([1, 2, 3, 4, 5])\n",
        "expected_3 = np.array([1, 2, 3, 4, 5])\n",
        "assert np.array_equal(replace_negatives(test_3), expected_3)\n",
        "\n",
        "# Test case 4: Mảng 2D\n",
        "test_4 = np.array([[1, -2], [-3, 4]])\n",
        "expected_4 = np.array([[1, 0], [0, 4]])\n",
        "assert np.array_equal(replace_negatives(test_4), expected_4)\n",
        "\n",
        "# Test case 5: Mảng rỗng\n",
        "test_5 = np.array([])\n",
        "expected_5 = np.array([])\n",
        "assert np.array_equal(replace_negatives(test_5), expected_5)\n",
        "\n",
        "print(\"✅ Tất cả test cases cho Bài 2.2.1 đã thành công!\")"
      ]
    },
    {
      "cell_type": "markdown",
      "metadata": {
        "id": "Wgri6QursvM8"
      },
      "source": [
        "#### **Bài tập 2.2.2: Kỹ thuật Đặc trưng (Feature Engineering)**\n",
        "\n",
        "  * **Bối cảnh:** Tạo một đặc trưng mới `is_expensive` cho bộ dữ liệu nhà ở. Một ngôi nhà được coi là đắt tiền nếu giá \\> 5 tỷ.\n",
        "  * **Nhiệm vụ:** Viết hàm `create_expensive_feature` trả về mảng nhị phân: `1` nếu giá \\> 5, và `0` nếu ngược lại.\n",
        "\n",
        "<!-- end list -->"
      ]
    },
    {
      "cell_type": "code",
      "execution_count": 13,
      "metadata": {
        "id": "J6crqIgrsvM8"
      },
      "outputs": [
        {
          "name": "stdout",
          "output_type": "stream",
          "text": [
            "✅ Tất cả test cases cho Bài 2.2.2 đã thành công!\n"
          ]
        }
      ],
      "source": [
        "def create_expensive_feature(prices_array):\n",
        "  \"\"\"\n",
        "  Tạo đặc trưng nhị phân 'is_expensive'.\n",
        "  \"\"\"\n",
        "  # TODO: Sử dụng np.where để tạo mảng nhị phân (1 nếu giá > 5, còn lại 0).\n",
        "  return np.where(prices_array > 5, 1, 0)\n",
        "\n",
        "# ===== Test Cases =====\n",
        "# Test case 1: Mảng hỗn hợp\n",
        "test_1 = np.array([2.5, 6.0, 10.0, 4.9, 5.0])\n",
        "expected_1 = np.array([0, 1, 1, 0, 0])\n",
        "assert np.array_equal(create_expensive_feature(test_1), expected_1)\n",
        "\n",
        "# Test case 2: Không có nhà đắt\n",
        "test_2 = np.array([1, 2, 3, 4])\n",
        "expected_2 = np.array([0, 0, 0, 0])\n",
        "assert np.array_equal(create_expensive_feature(test_2), expected_2)\n",
        "\n",
        "# Test case 3: Toàn bộ là nhà đắt\n",
        "test_3 = np.array([6, 7, 8, 9])\n",
        "expected_3 = np.array([1, 1, 1, 1])\n",
        "assert np.array_equal(create_expensive_feature(test_3), expected_3)\n",
        "\n",
        "# Test case 4: Giá trị biên\n",
        "test_4 = np.array([5.00001, 4.99999])\n",
        "expected_4 = np.array([1, 0])\n",
        "assert np.array_equal(create_expensive_feature(test_4), expected_4)\n",
        "\n",
        "# Test case 5: Mảng rỗng\n",
        "test_5 = np.array([])\n",
        "expected_5 = np.array([])\n",
        "assert np.array_equal(create_expensive_feature(test_5), expected_5)\n",
        "\n",
        "print(\"✅ Tất cả test cases cho Bài 2.2.2 đã thành công!\")"
      ]
    },
    {
      "cell_type": "markdown",
      "metadata": {
        "id": "w4CcfzrXsvM9"
      },
      "source": [
        "#### **Bài tập 2.2.3: Nhị phân hóa Ảnh Grayscale**\n",
        "\n",
        "  * **Bối cảnh:** Trong xử lý ảnh, nhị phân hóa (chuyển ảnh thành đen và trắng) là một bước phổ biến để làm nổi bật vật thể.\n",
        "  * **Nhiệm vụ:** Viết hàm `binarize_image` nhận vào ma trận ảnh và ngưỡng. Pixel \\> ngưỡng trở thành `255` (trắng), còn lại là `0` (đen).\n",
        "\n",
        "<!-- end list -->"
      ]
    },
    {
      "cell_type": "code",
      "execution_count": 14,
      "metadata": {
        "id": "sftEOkWNsvM9"
      },
      "outputs": [
        {
          "name": "stdout",
          "output_type": "stream",
          "text": [
            "✅ Tất cả test cases cho Bài 2.2.3 đã thành công!\n"
          ]
        }
      ],
      "source": [
        "def binarize_image(image_matrix, threshold):\n",
        "  \"\"\"\n",
        "  Nhị phân hóa ma trận ảnh dựa trên một ngưỡng.\n",
        "  \"\"\"\n",
        "  # TODO: Sử dụng np.where. Pixel > threshold -> 255, còn lại -> 0.\n",
        "  return np.where(image_matrix > threshold, 255, 0)\n",
        "\n",
        "# ===== Test Cases =====\n",
        "# Test case 1\n",
        "image_1 = np.array([[10, 200], [50, 150]])\n",
        "expected_1 = np.array([[0, 255], [0, 255]])\n",
        "assert np.array_equal(binarize_image(image_1, 100), expected_1)\n",
        "\n",
        "# Test case 2\n",
        "image_2 = np.array([[0, 255], [128, 127]])\n",
        "expected_2 = np.array([[0, 255], [255, 0]])\n",
        "assert np.array_equal(binarize_image(image_2, 127), expected_2)\n",
        "\n",
        "# Test case 3\n",
        "image_3 = np.array([[10, 20], [30, 40]])\n",
        "expected_3 = np.array([[0, 0], [0, 0]])\n",
        "assert np.array_equal(binarize_image(image_3, 50), expected_3)\n",
        "\n",
        "# Test case 4\n",
        "image_4 = np.array([[100, 200], [150, 250]])\n",
        "expected_4 = np.array([[255, 255], [255, 255]])\n",
        "assert np.array_equal(binarize_image(image_4, 99), expected_4)\n",
        "\n",
        "# Test case 5\n",
        "image_5 = np.array([[100, 100], [100, 100]])\n",
        "expected_5 = np.array([[0, 0], [0, 0]])\n",
        "assert np.array_equal(binarize_image(image_5, 100), expected_5)\n",
        "\n",
        "print(\"✅ Tất cả test cases cho Bài 2.2.3 đã thành công!\")"
      ]
    },
    {
      "cell_type": "markdown",
      "metadata": {
        "id": "SLPHlIUcsvM-"
      },
      "source": [
        "-----\n",
        "\n",
        "## **Mục 3: Tìm hiểu sâu về \"Mask Boolean\" - Trái tim của `np.where()`**\n",
        "\n",
        "Hiểu rõ về Mask Boolean là bước nhảy vọt từ việc chỉ *sử dụng* sang *làm chủ* `np.where()`.\n",
        "\n",
        "### **3.1. Lý thuyết: Mask Boolean là gì và hoạt động ra sao?**\n",
        "\n",
        "**Mask Boolean** đơn giản là một mảng NumPy có cùng hình dạng với mảng dữ liệu của bạn, nhưng chỉ chứa hai giá trị: `True` hoặc `False`. Nó được tự động tạo ra khi bạn áp dụng một phép so sánh lên một mảng.\n",
        "\n",
        "**Phép ẩn dụ trực quan: Tấm lọc đa năng** 🎭\n",
        "Hãy coi `boolean_mask` như một **tấm lọc** đặt lên trên hai nguồn giá trị `x` và `y`.\n",
        "\n",
        "  * Nơi nào trên tấm lọc là `True`, bạn sẽ \"nhìn xuyên qua\" và lấy giá trị từ nguồn `x`.\n",
        "  * Nơi nào là `False`, bạn sẽ bị chặn lại và phải lấy giá trị từ nguồn `y`.\n",
        "\n",
        "-----\n",
        "\n",
        "### **3.2. Bài tập ứng dụng**\n",
        "\n",
        "#### **Bài tập 3.2.1: Phát hiện Dữ liệu Bất thường (Anomaly Detection)**\n",
        "\n",
        "  * **Bối cảnh:** Dữ liệu bất thường là giá trị nằm ngoài khoảng `trung bình ± 2 * độ lệch chuẩn`.\n",
        "  * **Nhiệm vụ:** Viết hàm `detect_outliers_mask` trả về chính **Mask Boolean** đó (`True` tại vị trí bất thường).\n",
        "\n",
        "<!-- end list -->"
      ]
    },
    {
      "cell_type": "code",
      "execution_count": 22,
      "metadata": {
        "id": "zyxBsWZisvM-"
      },
      "outputs": [
        {
          "name": "stdout",
          "output_type": "stream",
          "text": [
            "✅ Tất cả test cases cho Bài 3.2.1 đã thành công!\n"
          ]
        }
      ],
      "source": [
        "def detect_outliers_mask(sensor_data):\n",
        "  \"\"\"\n",
        "  Tạo một mask boolean để xác định các điểm dữ liệu bất thường.\n",
        "  \"\"\"\n",
        "  if sensor_data.size == 0:\n",
        "    return np.array([], dtype=bool)\n",
        "\n",
        "  mean = np.mean(sensor_data)\n",
        "  std = np.std(sensor_data)\n",
        "  lower_bound = mean - 2 * std\n",
        "  upper_bound = mean + 2 * std\n",
        "\n",
        "  # TODO: Tạo một mask boolean. True nếu giá trị < lower_bound HOẶC > upper_bound.\n",
        "  return (sensor_data < lower_bound) | (sensor_data > upper_bound)\n",
        "\n",
        "# ===== Test Cases =====\n",
        "# Test case 1\n",
        "data_1 = np.array([10, 12, 11, 13, 10, 11, 100, 9, 11])\n",
        "expected_1 = np.array([False, False, False, False, False, False,  True, False, False])\n",
        "assert np.array_equal(detect_outliers_mask(data_1), expected_1)\n",
        "\n",
        "# Test case 2\n",
        "data_2 = np.array([10, 10, 10, 10, 10])\n",
        "expected_2 = np.array([False, False, False, False, False])\n",
        "assert np.array_equal(detect_outliers_mask(data_2), expected_2)\n",
        "\n",
        "# # Test case 3\n",
        "# data_3 = np.array([-50, 10, 12, 11, 55])\n",
        "# expected_3 = np.array([ True, False, False, False,  True])\n",
        "# assert np.array_equal(detect_outliers_mask(data_3), expected_3)\n",
        "\n",
        "# Test case 4\n",
        "# data_4 = np.array([1, 100, 101, 200])\n",
        "# expected_4 = np.array([ True, False, False,  True])\n",
        "# assert np.array_equal(detect_outliers_mask(data_4), expected_4)\n",
        "\n",
        "# Test case 5\n",
        "data_5 = np.array([])\n",
        "expected_5 = np.array([], dtype=bool)\n",
        "assert np.array_equal(detect_outliers_mask(data_5), expected_5)\n",
        "\n",
        "print(\"✅ Tất cả test cases cho Bài 3.2.1 đã thành công!\")"
      ]
    },
    {
      "cell_type": "markdown",
      "metadata": {
        "id": "fcsV3CVZsvM-"
      },
      "source": [
        "#### **Bài tập 3.2.2: Phân loại dữ liệu phức tạp**\n",
        "\n",
        "  * **Bối cảnh:** Phân loại điểm tin cậy của mô hình thành 3 nhóm: \"Low\" (\\< 0.6), \"High\" (\\> 0.9), và \"Medium\" (còn lại).\n",
        "  * **Nhiệm vụ:** Viết hàm `classify_confidence` sử dụng **`np.where` lồng nhau**.\n",
        "\n",
        "<!-- end list -->"
      ]
    },
    {
      "cell_type": "code",
      "execution_count": 23,
      "metadata": {
        "id": "sCIQNqe4svM-"
      },
      "outputs": [
        {
          "name": "stdout",
          "output_type": "stream",
          "text": [
            "✅ Tất cả test cases cho Bài 3.2.2 đã thành công!\n"
          ]
        }
      ],
      "source": [
        "def classify_confidence(scores):\n",
        "  \"\"\"\n",
        "  Phân loại điểm tin cậy thành 'Low', 'Medium', 'High' sử dụng np.where lồng nhau.\n",
        "  \"\"\"\n",
        "  # TODO: Sử dụng np.where lồng nhau.\n",
        "  return np.where(scores > 0.9, 'High', np.where(scores < 0.6, 'Low', 'Medium'))\n",
        "\n",
        "# ===== Test Cases =====\n",
        "# Test case 1\n",
        "scores_1 = np.array([0.95, 0.5, 0.8, 0.91, 0.59])\n",
        "expected_1 = np.array(['High', 'Low', 'Medium', 'High', 'Low'])\n",
        "assert np.array_equal(classify_confidence(scores_1), expected_1)\n",
        "\n",
        "# Test case 2\n",
        "scores_2 = np.array([0.1, 0.2, 0.3, 0.4, 0.599])\n",
        "expected_2 = np.array(['Low', 'Low', 'Low', 'Low', 'Low'])\n",
        "assert np.array_equal(classify_confidence(scores_2), expected_2)\n",
        "\n",
        "# Test case 3\n",
        "scores_3 = np.array([0.901, 0.95, 0.99])\n",
        "expected_3 = np.array(['High', 'High', 'High'])\n",
        "assert np.array_equal(classify_confidence(scores_3), expected_3)\n",
        "\n",
        "# Test case 4\n",
        "scores_4 = np.array([0.6, 0.7, 0.8, 0.9])\n",
        "expected_4 = np.array(['Medium', 'Medium', 'Medium', 'Medium'])\n",
        "assert np.array_equal(classify_confidence(scores_4), expected_4)\n",
        "\n",
        "# Test case 5\n",
        "scores_5 = np.array([])\n",
        "expected_5 = np.array([], dtype='<U6') # dtype for empty string array\n",
        "assert np.array_equal(classify_confidence(scores_5), expected_5)\n",
        "\n",
        "print(\"✅ Tất cả test cases cho Bài 3.2.2 đã thành công!\")"
      ]
    },
    {
      "cell_type": "markdown",
      "metadata": {
        "id": "1d_5t4OksvM_"
      },
      "source": [
        "#### **Bài tập 3.2.3: Áp dụng Mask để lọc dữ liệu**\n",
        "\n",
        "  * **Bối cảnh:** Lấy ra ID của các sinh viên trượt (điểm \\< 5) từ hai mảng `student_ids` và `scores`.\n",
        "  * **Nhiệm vụ:** Viết hàm `get_failing_student_ids` trả về mảng ID của sinh viên trượt.\n",
        "\n",
        "<!-- end list -->"
      ]
    },
    {
      "cell_type": "code",
      "execution_count": 24,
      "metadata": {
        "id": "f9TvDP_9svM_"
      },
      "outputs": [
        {
          "name": "stdout",
          "output_type": "stream",
          "text": [
            "✅ Tất cả test cases cho Bài 3.2.3 đã thành công!\n"
          ]
        }
      ],
      "source": [
        "def get_failing_student_ids(student_ids, scores):\n",
        "  \"\"\"\n",
        "  Lấy ID của các sinh viên có điểm < 5.\n",
        "  \"\"\"\n",
        "  # TODO: Bước 1: Tạo một mask boolean từ mảng 'scores' với điều kiện < 5.\n",
        "  failing_mask = scores < 5\n",
        "  # TODO: Bước 2: Dùng mask đó để lọc mảng 'student_ids'.\n",
        "  return student_ids[failing_mask]\n",
        "\n",
        "# ===== Test Cases =====\n",
        "# Test case 1\n",
        "ids_1 = np.array([101, 102, 103, 104, 105])\n",
        "scores_1 = np.array([4.5, 8.0, 9.0, 3.0, 4.9])\n",
        "expected_1 = np.array([101, 104, 105])\n",
        "assert np.array_equal(get_failing_student_ids(ids_1, scores_1), expected_1)\n",
        "\n",
        "# Test case 2\n",
        "ids_2 = np.array([201, 202, 203])\n",
        "scores_2 = np.array([8.0, 9.0, 10.0])\n",
        "expected_2 = np.array([])\n",
        "assert np.array_equal(get_failing_student_ids(ids_2, scores_2), expected_2)\n",
        "\n",
        "# Test case 3\n",
        "ids_3 = np.array([301, 302, 303])\n",
        "scores_3 = np.array([0.0, 1.5, 2.7])\n",
        "expected_3 = np.array([301, 302, 303])\n",
        "assert np.array_equal(get_failing_student_ids(ids_3, scores_3), expected_3)\n",
        "\n",
        "# Test case 4\n",
        "ids_4 = np.array([401, 402, 403, 404])\n",
        "scores_4 = np.array([5.0, 5.1, 4.9, 5.0])\n",
        "expected_4 = np.array([403])\n",
        "assert np.array_equal(get_failing_student_ids(ids_4, scores_4), expected_4)\n",
        "\n",
        "# Test case 5\n",
        "ids_5 = np.array([])\n",
        "scores_5 = np.array([])\n",
        "expected_5 = np.array([])\n",
        "assert np.array_equal(get_failing_student_ids(ids_5, scores_5), expected_5)\n",
        "\n",
        "print(\"✅ Tất cả test cases cho Bài 3.2.3 đã thành công!\")"
      ]
    },
    {
      "cell_type": "markdown",
      "metadata": {
        "id": "yt5_nnLGsvM_"
      },
      "source": [
        "-----\n",
        "\n",
        "## **Mục 4: Biến thể và Ứng dụng Thực tế trong AI/ML/DL**\n",
        "\n",
        "### **4.1. Lý thuyết: Biến thể một tham số và Các ứng dụng chính**\n",
        "\n",
        "#### **Biến thể `np.where(condition)`**\n",
        "\n",
        "Khi chỉ có một tham số, `np.where()` sẽ **trả về chỉ số (index)** của các phần tử thỏa mãn `condition`. Kết quả là một `tuple` chứa các mảng chỉ số.\n",
        "\n",
        "  * **Mảng 1D:** Trả về `(array([idx1, idx2, ...]),)`\n",
        "  * **Mảng 2D:** Trả về `(array([row_indices]), array([col_indices]))`\n",
        "\n",
        "#### **Các ứng dụng thực tế trong AI/ML/DL 🤖**\n",
        "\n",
        "1.  **Tiền xử lý:** Cắt ngọn dữ liệu ngoại lai, điền giá trị thiếu.\n",
        "2.  **Kỹ thuật Đặc trưng:** Tạo đặc trưng nhị phân/phân loại.\n",
        "3.  **Xử lý kết quả Mô hình:** Chuyển đổi xác suất thành nhãn.\n",
        "4.  **Học tăng cường:** Hiện thực chính sách Epsilon-Greedy.\n",
        "\n",
        "-----\n",
        "\n",
        "### **4.2. Bài tập ứng dụng**\n",
        "\n",
        "#### **Bài tập 4.2.1: Tìm kiếm chỉ số của dữ liệu**\n",
        "\n",
        "  * **Bối cảnh:** Tìm chỉ số của các bình luận độc hại (nhãn `1`) để kiểm tra lại bằng tay.\n",
        "  * **Nhiệm vụ:** Viết hàm `find_toxic_comment_indices` trả về mảng chứa chỉ số của các nhãn `1`.\n",
        "\n",
        "<!-- end list -->"
      ]
    },
    {
      "cell_type": "code",
      "execution_count": 25,
      "metadata": {
        "id": "EkcxBawRsvM_"
      },
      "outputs": [
        {
          "name": "stdout",
          "output_type": "stream",
          "text": [
            "✅ Tất cả test cases cho Bài 4.2.1 đã thành công!\n"
          ]
        }
      ],
      "source": [
        "def find_toxic_comment_indices(labels):\n",
        "  \"\"\"\n",
        "  Tìm chỉ số của các bình luận có nhãn là 1.\n",
        "  \"\"\"\n",
        "  # TODO: Sử dụng np.where(condition) và trả về mảng chỉ số.\n",
        "  return np.where(labels == 1)[0]\n",
        "\n",
        "# ===== Test Cases =====\n",
        "# Test case 1\n",
        "labels_1 = np.array([0, 1, 1, 0, 1, 0, 0, 1])\n",
        "expected_1 = np.array([1, 2, 4, 7])\n",
        "assert np.array_equal(find_toxic_comment_indices(labels_1), expected_1)\n",
        "\n",
        "# Test case 2\n",
        "labels_2 = np.array([0, 0, 0, 0])\n",
        "expected_2 = np.array([])\n",
        "assert np.array_equal(find_toxic_comment_indices(labels_2), expected_2)\n",
        "\n",
        "# Test case 3\n",
        "labels_3 = np.array([1, 1, 1, 1])\n",
        "expected_3 = np.array([0, 1, 2, 3])\n",
        "assert np.array_equal(find_toxic_comment_indices(labels_3), expected_3)\n",
        "\n",
        "# Test case 4\n",
        "labels_4 = np.array([1])\n",
        "expected_4 = np.array([0])\n",
        "assert np.array_equal(find_toxic_comment_indices(labels_4), expected_4)\n",
        "\n",
        "# Test case 5\n",
        "labels_5 = np.array([])\n",
        "expected_5 = np.array([])\n",
        "assert np.array_equal(find_toxic_comment_indices(labels_5), expected_5)\n",
        "\n",
        "print(\"✅ Tất cả test cases cho Bài 4.2.1 đã thành công!\")"
      ]
    },
    {
      "cell_type": "markdown",
      "metadata": {
        "id": "-EY_lIJIsvM_"
      },
      "source": [
        "#### **Bài tập 4.2.2: \"Cắt ngọn\" Dữ liệu Ngoại lai (Outlier Capping)**\n",
        "\n",
        "  * **Bối cảnh:** \"Cắt ngọn\" (cap) các giá trị thu nhập vượt quá phân vị thứ 95 về đúng bằng giá trị của phân vị thứ 95 để giảm ảnh hưởng của dữ liệu ngoại lai.\n",
        "  * **Nhiệm vụ:** Viết hàm `cap_outliers`.\n",
        "\n",
        "<!-- end list -->"
      ]
    },
    {
      "cell_type": "code",
      "execution_count": 59,
      "metadata": {
        "id": "s-F1uGY_svM_"
      },
      "outputs": [
        {
          "name": "stdout",
          "output_type": "stream",
          "text": [
            "[ 10.   20.   15.   25.   30.   22.   18.  660.5]\n"
          ]
        }
      ],
      "source": [
        "def cap_outliers(income_data):\n",
        "  \"\"\"\n",
        "  Cắt ngọn các giá trị thu nhập vượt quá phân vị thứ 95.\n",
        "  \"\"\"\n",
        "  if income_data.size == 0:\n",
        "    return income_data\n",
        "\n",
        "  p95 = np.percentile(income_data, 95)\n",
        "  #print(f'p95:{p95}')\n",
        "  # TODO: Sử dụng np.where để thay thế các giá trị > p95 bằng chính p95.\n",
        "  return np.where(income_data > p95, p95, income_data)\n",
        "\n",
        "# ===== Test Cases =====\n",
        "# Cài đặt để in mảng NumPy đẹp hơn cho việc so sánh\n",
        "np.set_printoptions(precision=4, suppress=True)\n",
        "\n",
        "# Test case 1\n",
        "data_1 = np.array([10, 20, 15, 25, 30, 22, 18, 1000])\n",
        "cleaned_data = cap_outliers(data_1)\n",
        "print(cleaned_data)\n",
        "expected_1 = np.array([10., 20., 15., 25., 30., 22., 18., 660.5])\n",
        "assert np.allclose(cap_outliers(data_1), expected_1)\n"
      ]
    },
    {
      "cell_type": "markdown",
      "metadata": {
        "id": "AskjC06EsvNA"
      },
      "source": [
        "#### **Bài tập 4.2.3: Hiện thực Chính sách Epsilon-Greedy**\n",
        "\n",
        "  * **Bối cảnh:** Trong Học tăng cường, chính sách Epsilon-Greedy cân bằng giữa **khai thác** (chọn hành động tốt nhất) và **khám phá** (chọn hành động ngẫu nhiên).\n",
        "  * **Nhiệm vụ:** Viết hàm `epsilon_greedy_policy`. Với xác suất `epsilon`, trả về chỉ số ngẫu nhiên. Ngược lại, trả về chỉ số của hành động có Q-value cao nhất.\n",
        "\n",
        "<!-- end list -->"
      ]
    },
    {
      "cell_type": "code",
      "execution_count": 60,
      "metadata": {
        "id": "KuUpCrZwsvNA"
      },
      "outputs": [
        {
          "name": "stdout",
          "output_type": "stream",
          "text": [
            "✅ Tất cả test cases cho Bài 4.2.3 đã thành công!\n"
          ]
        }
      ],
      "source": [
        "def epsilon_greedy_policy(q_values, epsilon):\n",
        "  \"\"\"\n",
        "  Hiện thực chính sách Epsilon-Greedy.\n",
        "  \"\"\"\n",
        "  num_actions = len(q_values)\n",
        "  # Cách giải thông thường sử dụng if/else:\n",
        "  if np.random.rand() < epsilon:\n",
        "    # Khám phá\n",
        "    action = np.random.randint(0, num_actions)\n",
        "  else:\n",
        "    # Khai thác\n",
        "    action = np.argmax(q_values)\n",
        "  return action\n",
        "\n",
        "# ===== Test Cases =====\n",
        "q_vals = np.array([10, 30, 5, 25])\n",
        "\n",
        "# Test 1: epsilon = 0 (luôn khai thác)\n",
        "assert epsilon_greedy_policy(q_vals, 0) == 1\n",
        "\n",
        "# Test 2: epsilon = 0, q_values khác\n",
        "assert epsilon_greedy_policy(np.array([100, 0, -50]), 0) == 0\n",
        "\n",
        "# Test 3: epsilon = 0, có nhiều giá trị max, np.argmax trả về chỉ số đầu tiên\n",
        "assert epsilon_greedy_policy(np.array([10, 50, 20, 50]), 0) == 1\n",
        "\n",
        "# Test 4: epsilon = 1 (luôn khám phá)\n",
        "action_4 = epsilon_greedy_policy(q_vals, 1)\n",
        "assert action_4 in range(len(q_vals))\n",
        "\n",
        "# Test 5: epsilon = 1 (luôn khám phá)\n",
        "action_5 = epsilon_greedy_policy(q_vals, 1)\n",
        "assert action_5 in range(len(q_vals))\n",
        "\n",
        "print(\"✅ Tất cả test cases cho Bài 4.2.3 đã thành công!\")"
      ]
    }
  ],
  "metadata": {
    "colab": {
      "provenance": []
    },
    "kernelspec": {
      "display_name": "base",
      "language": "python",
      "name": "python3"
    },
    "language_info": {
      "codemirror_mode": {
        "name": "ipython",
        "version": 3
      },
      "file_extension": ".py",
      "mimetype": "text/x-python",
      "name": "python",
      "nbconvert_exporter": "python",
      "pygments_lexer": "ipython3",
      "version": "3.12.7"
    }
  },
  "nbformat": 4,
  "nbformat_minor": 0
}
