{
 "cells": [
  {
   "cell_type": "code",
   "execution_count": 4,
   "id": "65d6457a",
   "metadata": {},
   "outputs": [
    {
     "name": "stdout",
     "output_type": "stream",
     "text": [
      "tensor([0.9933, 0.9526])\n"
     ]
    }
   ],
   "source": [
    "import torch\n",
    "# input data\n",
    "x = torch.tensor([5.0, 3.0])\n",
    "# sigmoid function\n",
    "output = torch.sigmoid(x)\n",
    "print(output)"
   ]
  },
  {
   "cell_type": "markdown",
   "id": "edb91688",
   "metadata": {},
   "source": [
    "1C"
   ]
  },
  {
   "cell_type": "code",
   "execution_count": null,
   "id": "0811c3e2",
   "metadata": {},
   "outputs": [
    {
     "name": "stdout",
     "output_type": "stream",
     "text": [
      "tensor([0.9526, 0.1192])\n"
     ]
    }
   ],
   "source": [
    "import torch\n",
    "import torch.nn as nn\n",
    "\n",
    "class MySigmoid(nn.Module):\n",
    "    \"\"\"\n",
    "    PyTorch Needs nn.Module for Models and Layers\n",
    "PyTorch is designed around the idea of building models using layers. These layers must be objects that inherit from nn.Module.\n",
    "\n",
    "That way, PyTorch knows how to:\n",
    "\n",
    "combine them into a full model,\n",
    "\n",
    "move them to GPU, e.g., .to('cuda'),\n",
    "\n",
    "save/load them, e.g., .state_dict() and torch.save(),\n",
    "\n",
    "train/eval mode switching, e.g., .train() and .eval().\n",
    "\n",
    "    \"\"\"\n",
    "\n",
    "    def __init__(self):\n",
    "        super().__init__()\n",
    "\n",
    "    def forward(self, x):\n",
    "        \"\"\"\n",
    "        Applies the sigmoid activation function: 1 / (1 + exp(-x))\n",
    "\n",
    "        Args:\n",
    "            x (Tensor): Input tensor.\n",
    "\n",
    "        Returns:\n",
    "            Tensor: Output after applying sigmoid element-wise.\n",
    "        \"\"\"\n",
    "        return 1 / (1 + torch.exp(-x))\n",
    "\n",
    "data = torch.Tensor([3.0, -2.0])\n",
    "my_sigmoid = MySigmoid()\n",
    "output = my_sigmoid(data)\n",
    "print(output)\n"
   ]
  },
  {
   "cell_type": "code",
   "execution_count": 21,
   "id": "a181d858",
   "metadata": {},
   "outputs": [
    {
     "name": "stdout",
     "output_type": "stream",
     "text": [
      "Student - Name: studentZ2023 - YoB: 2011 - Grade: 6.\n"
     ]
    }
   ],
   "source": [
    "from abc import ABC, abstractmethod \n",
    "\n",
    "class Person(ABC):\n",
    "    def __init__(self, name: str, yob: int):\n",
    "        self._name = name\n",
    "        self._yob = yob\n",
    "    \n",
    "    def get_yob(self):\n",
    "        return self._yob\n",
    "    \n",
    "    @abstractmethod\n",
    "    def describe(self):\n",
    "        pass\n",
    "\n",
    "\n",
    "class Student(Person):\n",
    "    def __init__(self, name: str, yob: int, grade: str):\n",
    "        super().__init__(name, yob)\n",
    "        self._grade = grade\n",
    "    \n",
    "    def describe(self):\n",
    "        print(f'Student - Name: {self._name} - YoB: {self._yob} - Grade: {self._grade}.')\n",
    "\n",
    "student1 = Student(name=\"studentZ2023\", yob=2011, grade=\"6\") \n",
    "student1.describe()"
   ]
  },
  {
   "cell_type": "code",
   "execution_count": null,
   "id": "4de07b3e",
   "metadata": {},
   "outputs": [
    {
     "name": "stdout",
     "output_type": "stream",
     "text": [
      "Teacher - Name: teacherZ2023 - YoB: 1991 - Subject: History.\n"
     ]
    }
   ],
   "source": [
    "from abc import ABC, abstractmethod \n",
    "\n",
    "class Person(ABC):\n",
    "    \"\"\"\n",
    "    Một người (person) có thể là student, doctor, hoặc teacher. Một student gồm có name (string),\n",
    "    yob (int) (năm sinh), và grade (string)\n",
    "    \n",
    "    \"\"\"\n",
    "    def __init__(self, name: str, yob: int):\n",
    "        self._name = name\n",
    "        self._yob = yob\n",
    "    \n",
    "    def get_yob(self):\n",
    "        return self._yob\n",
    "    \n",
    "    @abstractmethod\n",
    "    def describe(self):\n",
    "        pass\n",
    "\n",
    "\n",
    "class Teacher(Person):\n",
    "    def __init__(self, name: str, yob: int, subject: str):\n",
    "        super().__init__(name, yob)\n",
    "        self._subject = subject\n",
    "    \n",
    "    def describe(self):\n",
    "        print(f'Teacher - Name: {self._name} - YoB: {self._yob} - Subject: {self._subject}.')\n",
    "\n",
    "teacher1 = Teacher(name=\"teacherZ2023\", yob=1991, subject=\"History\") \n",
    "teacher1.describe()"
   ]
  },
  {
   "cell_type": "code",
   "execution_count": 25,
   "id": "141756f3",
   "metadata": {},
   "outputs": [
    {
     "name": "stdout",
     "output_type": "stream",
     "text": [
      "Doctor - Name: doctorZ2023 - YoB: 1981 - Specialist: Endocrinologists.\n"
     ]
    }
   ],
   "source": [
    "from abc import ABC, abstractmethod \n",
    "\n",
    "class Person(ABC):\n",
    "    def __init__(self, name: str, yob: int):\n",
    "        self._name = name\n",
    "        self._yob = yob\n",
    "    \n",
    "    def get_yob(self):\n",
    "        return self._yob\n",
    "    \n",
    "    @abstractmethod\n",
    "    def describe(self):\n",
    "        pass\n",
    "\n",
    "\n",
    "class Doctor(Person):\n",
    "    def __init__(self, name: str, yob: int, specialist: str):\n",
    "        super().__init__(name, yob)\n",
    "        self._specialist = specialist\n",
    "    \n",
    "    def describe(self):\n",
    "        print(f'Doctor - Name: {self._name} - YoB: {self._yob} - Specialist: {self._specialist}.')\n",
    "\n",
    "doctor1 = Doctor(name=\"doctorZ2023\", yob=1981, specialist=\"Endocrinologists\")\n",
    "doctor1.describe()"
   ]
  },
  {
   "cell_type": "code",
   "execution_count": 16,
   "id": "01ca6e4f",
   "metadata": {},
   "outputs": [
    {
     "name": "stdout",
     "output_type": "stream",
     "text": [
      "False\n"
     ]
    }
   ],
   "source": [
    "class MyStack:\n",
    "    def __init__(self, capacity):\n",
    "        self.__capacity = capacity\n",
    "        self.__stack = []\n",
    "\n",
    "    def is_empty(self):\n",
    "        return len(self.__stack) == 0 \n",
    "    \n",
    "    def is_full(self):\n",
    "        return len(self.__stack) == self.__capacity \n",
    "    \n",
    "        \n",
    "    def push(self, value):\n",
    "        if not self.is_full():\n",
    "            self.__stack.append(value)\n",
    "\n",
    "    def pop(self):\n",
    "        if not self.is_empty():\n",
    "            return self.__stack.pop()\n",
    "    \n",
    "    def top(self):\n",
    "        if not self.is_empty():\n",
    "            return self.__stack[-1]\n",
    "\n",
    "    \n",
    "    def print(self):\n",
    "        print(self.__stack)\n",
    "    \n",
    "stack1 = MyStack(capacity=5)\n",
    "stack1.push(1)\n",
    "stack1.push(2)\n",
    "print(stack1.is_full())\n",
    "#print(stack1.top())\n",
    "#print(stack1.pop())\n",
    "#print(stack1.top())\n",
    "#print(stack1.pop())\n",
    "#print(stack1.is_empty())"
   ]
  },
  {
   "cell_type": "markdown",
   "id": "1276ed86",
   "metadata": {},
   "source": [
    "7B 8B"
   ]
  },
  {
   "cell_type": "code",
   "execution_count": 28,
   "id": "1f92db82",
   "metadata": {},
   "outputs": [
    {
     "name": "stdout",
     "output_type": "stream",
     "text": [
      "False\n"
     ]
    }
   ],
   "source": [
    "class MyQueue:\n",
    "    def __init__(self, capacity):\n",
    "        self.__capacity = capacity\n",
    "        self.__queue = []\n",
    "    \n",
    "    def is_empty(self):\n",
    "        return self.__queue == [] \n",
    "    \n",
    "    def is_full(self):\n",
    "        return len(self.__queue) == self.__capacity \n",
    "    \n",
    "    def dequeue(self):\n",
    "        if not self.is_empty():\n",
    "            return self.__queue.pop(0)\n",
    "    \n",
    "    def enqueue(self, value):\n",
    "        if not self.is_full():\n",
    "            self.__queue.append(value)\n",
    "    \n",
    "    def front(self):\n",
    "        if not self.is_empty():\n",
    "            return self.__queue[0]\n",
    "\n",
    "queue1 = MyQueue(capacity=5)\n",
    "queue1.enqueue(1)\n",
    "queue1.enqueue(2)\n",
    "\n",
    "print(queue1.is_full())\n"
   ]
  },
  {
   "cell_type": "markdown",
   "id": "9ffd1058",
   "metadata": {},
   "source": [
    "9A"
   ]
  },
  {
   "cell_type": "markdown",
   "id": "675572d1",
   "metadata": {},
   "source": [
    "10D"
   ]
  },
  {
   "cell_type": "code",
   "execution_count": null,
   "id": "53cbd54e",
   "metadata": {},
   "outputs": [],
   "source": [
    "class Ward:\n",
    "    def __init__(self, name: str):\n",
    "        self.name = name\n",
    "        self.people_list = []\n",
    "    \n",
    "    def add_person(self, person: Person):\n",
    "        self.people_list.append(person)\n",
    "\n",
    "    def count_doctor(self):\n",
    "        doctor_number = 0 \n",
    "        for person in self.people_list:\n",
    "            if isinstance (person, Doctor):\n",
    "                doctor_number +=1\n",
    "        return doctor_number\n",
    "\n",
    "    def describe(self):\n",
    "        print(f\"Ward Name: {self.name}\")\n",
    "        for person in self.people_list:\n",
    "            person.describe()\n",
    "        \n",
    "    def sort_age(self):\n",
    "        return self.people_list.sort(key = lambda person: person.yob, reverse= True)\n",
    "    \n",
    "    def avg_teacher_yob(self):\n",
    "        teacher_yob = []\n",
    "        for person in self.people_list:\n",
    "            if isinstance (person, Teacher):\n",
    "                teacher_yob.append(person.yob)\n",
    "        return sum(\n",
    "\n",
    "class Person:\n",
    "    def __init__(self, name, yob):\n",
    "        self.name = name \n",
    "        self.yob = yob \n",
    "\n",
    "class Student(Person):\n",
    "    def __init__(self, name, yob,grade):\n",
    "        super().__init__(name, yob)\n",
    "        self.grade = grade \n",
    "\n",
    "    def describe(self):\n",
    "        print(f'Student - Name: {self.name}, yob = {self.yob}, grade = {self.grade}')\n",
    "\n",
    "class Teacher(Person):\n",
    "    def __init__(self, name, yob, subject):\n",
    "        super().__init__(name, yob)\n",
    "        self.subject = subject\n",
    "\n",
    "    def describe(self):\n",
    "        print(f'Teacher - Name: {self.name}, yob = {self.yob}, subject = {self.subject}')\n",
    "\n",
    "\n",
    "class Doctor(Person):\n",
    "    def __init__(self, name, yob, specialist):\n",
    "        super().__init__(name, yob)\n",
    "        self.specialist = specialist\n",
    "\n",
    "    def describe(self):\n",
    "        print(f'Doctor - Name: {self.name}, yob = {self.yob}, specialist = {self.specialist}')\n",
    "\n",
    "# Tạo đối tượng ward\n",
    "ward1 = Ward(\"Ward1\")\n",
    "\n",
    "# Tạo 1 student\n",
    "student1 = Student(name=\"studentA\", yob=2010, grade=\"7\")\n",
    "ward1.add_person(student1)\n",
    "\n",
    "# Tạo 2 teacher\n",
    "teacher1 = Teacher(name=\"teacherA\", yob=1969, subject=\"Math\")\n",
    "teacher2 = Teacher(name=\"teacherB\", yob=1995, subject=\"History\")\n",
    "ward1.add_person(teacher1)\n",
    "ward1.add_person(teacher2)\n",
    "\n",
    "# Tạo 2 doctor\n",
    "doctor1 = Doctor(name=\"doctorA\", yob=1945, specialist=\"Endocrinologists\")\n",
    "doctor2 = Doctor(name=\"doctorB\", yob=1975, specialist=\"Cardiologists\")\n",
    "ward1.add_person(doctor1)\n",
    "ward1.add_person(doctor2)\n",
    "\n",
    "print(ward1.describe())\n",
    "print(f\"\\nNumber of doctors: {ward1.count_doctor()}\")\n",
    "\n",
    "print(\"\\nAfter sorting Age of Ward1 people_list\")\n",
    "ward1.sort_age()\n",
    "ward1.describe()\n"
   ]
  }
 ],
 "metadata": {
  "kernelspec": {
   "display_name": "myenv",
   "language": "python",
   "name": "python3"
  },
  "language_info": {
   "codemirror_mode": {
    "name": "ipython",
    "version": 3
   },
   "file_extension": ".py",
   "mimetype": "text/x-python",
   "name": "python",
   "nbconvert_exporter": "python",
   "pygments_lexer": "ipython3",
   "version": "3.10.16"
  }
 },
 "nbformat": 4,
 "nbformat_minor": 5
}
