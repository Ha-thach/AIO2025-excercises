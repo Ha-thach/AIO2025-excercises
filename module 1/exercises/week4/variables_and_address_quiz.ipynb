{
 "cells": [
  {
   "cell_type": "markdown",
   "id": "6c3c4091",
   "metadata": {},
   "source": [
    "### Question 1: Small Integer Caching"
   ]
  },
  {
   "cell_type": "code",
   "execution_count": null,
   "id": "de27eb8b",
   "metadata": {},
   "outputs": [],
   "source": [
    "a = 1000\n",
    "b = 1000\n",
    "print(id(a) == id(b))  # False expected"
   ]
  },
  {
   "cell_type": "markdown",
   "id": "f308f16b",
   "metadata": {},
   "source": [
    "# Answer: False\n",
    "# Explanation: Python caches small integers (-5 to 256), but 1000 is outside this range."
   ]
  },
  {
   "cell_type": "markdown",
   "id": "682e2ac2",
   "metadata": {},
   "source": [
    "### Question 2: Mutable List Reference"
   ]
  },
  {
   "cell_type": "code",
   "execution_count": null,
   "id": "97e19a18",
   "metadata": {},
   "outputs": [],
   "source": [
    "a = [1, 2, 3]\n",
    "b = a\n",
    "a.append(4)\n",
    "print(b)  # [1, 2, 3, 4] expected"
   ]
  },
  {
   "cell_type": "markdown",
   "id": "7db3a1b4",
   "metadata": {},
   "source": [
    "# Answer: [1, 2, 3, 4]\n",
    "# Explanation: Both a and b refer to the same list object."
   ]
  },
  {
   "cell_type": "markdown",
   "id": "8d22c499",
   "metadata": {},
   "source": [
    "### Question 3: Immutable String"
   ]
  },
  {
   "cell_type": "code",
   "execution_count": null,
   "id": "6b218218",
   "metadata": {},
   "outputs": [],
   "source": [
    "x = \"AI\"\n",
    "y = x\n",
    "x += \" VIETNAM\"\n",
    "print(y)  # 'AI' expected"
   ]
  },
  {
   "cell_type": "markdown",
   "id": "d2cab5ef",
   "metadata": {},
   "source": [
    "# Answer: 'AI'\n",
    "# Explanation: Strings are immutable, x now points to a new string object."
   ]
  },
  {
   "cell_type": "markdown",
   "id": "3f47fa2c",
   "metadata": {},
   "source": [
    "### Question 4: Shallow Copy List"
   ]
  },
  {
   "cell_type": "code",
   "execution_count": null,
   "id": "f3ecb977",
   "metadata": {},
   "outputs": [],
   "source": [
    "import copy\n",
    "a = [[1, 2], [3, 4]]\n",
    "b = copy.copy(a)\n",
    "a[0][0] = 99\n",
    "print(b)  # [[99, 2], [3, 4]] expected"
   ]
  },
  {
   "cell_type": "markdown",
   "id": "021aa6b8",
   "metadata": {},
   "source": [
    "# Answer: [[99, 2], [3, 4]]\n",
    "# Explanation: Shallow copy copies outer list, inner elements are shared."
   ]
  },
  {
   "cell_type": "markdown",
   "id": "07735e6c",
   "metadata": {},
   "source": [
    "### Question 5: In-place vs Non-in-place"
   ]
  },
  {
   "cell_type": "code",
   "execution_count": null,
   "id": "cb74dcf0",
   "metadata": {},
   "outputs": [],
   "source": [
    "a = [1, 2, 3]\n",
    "old_id = id(a)\n",
    "a = a + [4]\n",
    "new_id = id(a)\n",
    "print(old_id == new_id)  # False expected"
   ]
  },
  {
   "cell_type": "markdown",
   "id": "5e2ff1a3",
   "metadata": {},
   "source": [
    "# Answer: False\n",
    "# Explanation: '+' creates a new list, so the id changes."
   ]
  },
  {
   "cell_type": "markdown",
   "id": "a953f0fb",
   "metadata": {},
   "source": [
    "### Question 6: Integer Identity Caching"
   ]
  },
  {
   "cell_type": "code",
   "execution_count": null,
   "id": "dec4c469",
   "metadata": {},
   "outputs": [],
   "source": [
    "a = 256\n",
    "b = 256\n",
    "c = 257\n",
    "d = 257\n",
    "print(id(a) == id(b))  # True expected\n",
    "print(id(c) == id(d))  # False expected"
   ]
  },
  {
   "cell_type": "markdown",
   "id": "ae7f3b14",
   "metadata": {},
   "source": [
    "# Answer: True then False\n",
    "# Explanation: 256 is cached, 257 is not."
   ]
  },
  {
   "cell_type": "markdown",
   "id": "7c84e2ff",
   "metadata": {},
   "source": [
    "### Question 7: Function with Immutable"
   ]
  },
  {
   "cell_type": "code",
   "execution_count": null,
   "id": "af853af9",
   "metadata": {},
   "outputs": [],
   "source": [
    "def square(n):\n",
    "    n = n * n\n",
    "x = 5\n",
    "square(x)\n",
    "print(x)  # 5 expected"
   ]
  },
  {
   "cell_type": "markdown",
   "id": "e79e05a6",
   "metadata": {},
   "source": [
    "# Answer: 5\n",
    "# Explanation: Integers are immutable, original x is unaffected."
   ]
  },
  {
   "cell_type": "markdown",
   "id": "86265350",
   "metadata": {},
   "source": [
    "### Question 8: Function with Mutable"
   ]
  },
  {
   "cell_type": "code",
   "execution_count": null,
   "id": "d7a3e250",
   "metadata": {},
   "outputs": [],
   "source": [
    "def add_one(mylist):\n",
    "    mylist.append(1)\n",
    "a = [0]\n",
    "add_one(a)\n",
    "print(a)  # [0, 1] expected"
   ]
  },
  {
   "cell_type": "markdown",
   "id": "dc29fbed",
   "metadata": {},
   "source": [
    "# Answer: [0, 1]\n",
    "# Explanation: Lists are mutable and passed by reference."
   ]
  },
  {
   "cell_type": "markdown",
   "id": "6a1d67de",
   "metadata": {},
   "source": [
    "### Question 9: Shared List Reference"
   ]
  },
  {
   "cell_type": "code",
   "execution_count": null,
   "id": "d8af3344",
   "metadata": {},
   "outputs": [],
   "source": [
    "list1 = [1, 2, 3]\n",
    "list2 = list1\n",
    "list1[0] = 99\n",
    "print(list2)  # [99, 2, 3] expected"
   ]
  },
  {
   "cell_type": "markdown",
   "id": "3ce5a10f",
   "metadata": {},
   "source": [
    "# Answer: [99, 2, 3]\n",
    "# Explanation: list2 is an alias of list1."
   ]
  },
  {
   "cell_type": "markdown",
   "id": "210834ea",
   "metadata": {},
   "source": [
    "### Question 10: Shallow Copy and Nested Lists"
   ]
  },
  {
   "cell_type": "code",
   "execution_count": null,
   "id": "602688fa",
   "metadata": {},
   "outputs": [],
   "source": [
    "import copy\n",
    "a = [[1, 2], [3, 4]]\n",
    "b = copy.copy(a)\n",
    "a[1][0] = 99\n",
    "print(b)  # [[1, 2], [99, 4]] expected"
   ]
  },
  {
   "cell_type": "markdown",
   "id": "1b224b13",
   "metadata": {},
   "source": [
    "# Answer: [[1, 2], [99, 4]]\n",
    "# Explanation: Shallow copy shares inner list elements."
   ]
  }
 ],
 "metadata": {},
 "nbformat": 4,
 "nbformat_minor": 5
}